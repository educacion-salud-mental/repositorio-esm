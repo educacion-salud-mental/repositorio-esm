{
 "cells": [
  {
   "cell_type": "code",
   "execution_count": 3,
   "metadata": {},
   "outputs": [],
   "source": [
    "import os\n",
    "import requests\n",
    "import zipfile\n",
    "from io import BytesIO\n",
    "from datetime import datetime\n",
    "\n",
    "data_path=\"./Data/raw/DATOS EDUCACION\"\n",
    "\n",
    "def nombre_archivo(url):\n",
    "    indices=[index for index in range(len(url)) if url[index]==\"/\"]\n",
    "    last_slash=indices[-1]\n",
    "    file_name_with=url[last_slash+1:]\n",
    "    indices=[index for index in range(len(file_name_with)) if file_name_with[index]==\".\"]\n",
    "    last_point=indices[-1]\n",
    "    file_name_without=file_name_with[last_point+1:]\n",
    "    return {'with':file_name_with,'without':file_name_without}\n",
    "\n",
    "def descargar_archivo_zip(url,file_name=\"\",folder=\"\"):\n",
    "    \"\"\" \n",
    "    url: URL de descarga\n",
    "    folder: El nombre de la carpeta en donde se guardaran los datos descargados\n",
    "    file_name: Nombre del archivo extraído\n",
    "    \"\"\"\n",
    "    # Creamos el directorio de extracción en caso de no existir\n",
    "    \n",
    "    extract_to=f\"{data_path}/{folder}/{file_name}\"\n",
    "\n",
    "    os.makedirs(extract_to, exist_ok=True)\n",
    "\n",
    "    # Descargamos el archivo zip\n",
    "    response = requests.get(url)\n",
    "    if response.status_code == 200:\n",
    "        # Abrimos y extraemos el contenido\n",
    "        with zipfile.ZipFile(BytesIO(response.content)) as z:\n",
    "            z.extractall(extract_to)\n",
    "            print(f'El contenido de {url} se extrajo a {extract_to}')\n",
    "    else:\n",
    "        print(f'Error al descargar {url}, status code: {response.status_code}')\n",
    "\n",
    "def descargar_archivo_xlsx(url,file_name,folder=\"\"):\n",
    "    \"\"\" \n",
    "    url: URL de descarga\n",
    "    folder: El nombre de la carpeta en donde se guardaran los datos descargados\n",
    "    file_name: Nombre del archivo extraído\n",
    "    \"\"\"\n",
    "    download_path=f\"{data_path}/{folder}\"\n",
    "    # Creamos el directorio de extracción en caso de no existir\n",
    "    os.makedirs(download_path, exist_ok=True)\n",
    "    # Se hace una petición GET al url\n",
    "    response = requests.get(url)\n",
    "    \n",
    "\n",
    "    if response.status_code == 200:\n",
    "        \n",
    "        file_path=f\"{download_path}/{file_name}\"\n",
    "        # Se guarda el contenido\n",
    "        with open(file_path, 'wb') as f:\n",
    "            f.write(response.content)\n",
    "        print(f'Descarga completa:{url}')\n",
    "        print(f'Archivo guardado:{file_name}')\n",
    "    else:\n",
    "        print('Error al intentar descargar el archivo, status code:', response.status_code)"
   ]
  },
  {
   "cell_type": "code",
   "execution_count": 1,
   "metadata": {},
   "outputs": [
    {
     "data": {
      "text/plain": [
       "'/Users/federicocirett/Documents/Master/IngenieriaCaracteristicas/{{ cookiecutter.project_slug }}/notebooks'"
      ]
     },
     "execution_count": 1,
     "metadata": {},
     "output_type": "execute_result"
    }
   ],
   "source": [
    "pwd"
   ]
  },
  {
   "cell_type": "code",
   "execution_count": 6,
   "metadata": {},
   "outputs": [],
   "source": [
    "os.chdir(\"/Users/federicocirett/Documents/Master/IngenieriaCaracteristicas/{{ cookiecutter.project_slug }}\")\n"
   ]
  },
  {
   "cell_type": "code",
   "execution_count": 45,
   "metadata": {},
   "outputs": [
    {
     "data": {
      "text/plain": [
       "'/Users/federicocirett/Documents/Master/IngenieriaCaracteristicas/{{ cookiecutter.project_slug }}'"
      ]
     },
     "execution_count": 45,
     "metadata": {},
     "output_type": "execute_result"
    }
   ],
   "source": [
    "pwd"
   ]
  },
  {
   "cell_type": "markdown",
   "metadata": {},
   "source": [
    "# Censos de Población y Vivienda"
   ]
  },
  {
   "cell_type": "code",
   "execution_count": 46,
   "metadata": {},
   "outputs": [],
   "source": [
    "#Enlaces de Censos de Población:\n",
    "\n",
    "ccpv_siglo_XX= [\n",
    "        {\n",
    "            \"url\": \"https://www.inegi.org.mx/contenidos/programas/ccpv/1950/tabulados/cgp50_nal_educacion.xlsx\",\n",
    "            \"data\": \"REFUT1MgU0lHTE8gWFg=\",\n",
    "            \"file_name\": \"cgp50_nal_educacion.xlsx\"\n",
    "        },\n",
    "        {\n",
    "            \"url\": \"https://www.inegi.org.mx/contenidos/programas/ccpv/1960/tabulados/CGP60_nal_Educacion.xlsx\",\n",
    "            \"data\": \"REFUT1MgU0lHTE8gWFg=\",\n",
    "            \"file_name\": \"CGP60_nal_Educacion.xlsx\"\n",
    "        },\n",
    "        {\n",
    "            \"url\": \"https://www.inegi.org.mx/contenidos/programas/ccpv/1970/tabulados/cgp70_nal_educacion.xlsx\",\n",
    "            \"data\": \"REFUT1MgU0lHTE8gWFg=\",\n",
    "            \"file_name\": \"cgp70_nal_educacion.xlsx\"\n",
    "        },\n",
    "        {\n",
    "            \"url\": \"https://www.inegi.org.mx/contenidos/programas/ccpv/1980/tabulados/cpyv80_nal_educacion.xlsx\",\n",
    "            \"data\": \"REFUT1MgU0lHTE8gWFg=\",\n",
    "            \"file_name\": \"cpyv80_nal_educacion.xlsx\"\n",
    "        },\n",
    "        {\n",
    "            \"url\": \"https://www.inegi.org.mx/contenidos/programas/ccpv/1990/tabulados/CPyV90_Nal_Caracteristicas_educativas.xlsx\",\n",
    "            \"data\": \"REFUT1MgU0lHTE8gWFg=\",\n",
    "            \"file_name\": \"CPyV90_Nal_Caracteristicas_educativas.xlsx\"\n",
    "        },\n",
    "        {\n",
    "            \"url\": \"https://www.inegi.org.mx/contenidos/programas/ccpv/1995/tabulados/Cont95Enum_NAL_Caracteristicas_educativas.xlsx\",\n",
    "            \"data\": \"REFUT1MgU0lHTE8gWFg=\",\n",
    "            \"file_name\": \"Cont95Enum_NAL_Caracteristicas_educativas.xlsx\"\n",
    "        }\n",
    "        \n",
    "       \n",
    "   \n",
    "]\n",
    "\n",
    "ccpv_siglo_XXI= [\n",
    "        {\n",
    "            \"url\": \"https://www.inegi.org.mx/contenidos/programas/ccpv/2000/datosabiertos/cgpv2000_iter_00_csv.zip\",\n",
    "            \"data\": \"REFUT1MgU0lHTE8gWFhJ\",\n",
    "            \"file_name\": \"cgpv2000_iter_00_csv.zip\"\n",
    "        },\n",
    "        {\n",
    "            \"url\": \"https://www.inegi.org.mx/contenidos/programas/ccpv/2005/datosabiertos/cpv2005_iter_00_csv.zip\",\n",
    "            \"data\": \"REFUT1MgU0lHTE8gWFhJ\",\n",
    "            \"file_name\": \"cpv2005_iter_00_csv.zip\"\n",
    "        },\n",
    "        {\n",
    "            \"url\": \"https://www.inegi.org.mx/contenidos/programas/ccpv/2010/datosabiertos/iter_nal_2010_csv.zip\",\n",
    "            \"data\": \"REFUT1MgU0lHTE8gWFhJ\",\n",
    "            \"file_name\": \"iter_nal_2010_csv.zip\"\n",
    "        },\n",
    "        {\n",
    "            \"url\": \"https://www.inegi.org.mx/contenidos/programas/ccpv/2020/datosabiertos/iter/iter_00_cpv2020_csv.zip\",\n",
    "            \"data\": \"REFUT1MgU0lHTE8gWFhJ\",\n",
    "            \"file_name\": \"iter_00_cpv2020_csv.zip\"\n",
    "        }\n",
    "    ]\n"
   ]
  },
  {
   "cell_type": "code",
   "execution_count": 65,
   "metadata": {},
   "outputs": [
    {
     "name": "stdout",
     "output_type": "stream",
     "text": [
      "Descarga completa:https://www.inegi.org.mx/contenidos/programas/ccpv/1950/tabulados/cgp50_nal_educacion.xlsx\n",
      "Archivo guardado:cgp50_nal_educacion.xlsx\n",
      "Descarga completa:https://www.inegi.org.mx/contenidos/programas/ccpv/1960/tabulados/CGP60_nal_Educacion.xlsx\n",
      "Archivo guardado:CGP60_nal_Educacion.xlsx\n",
      "Descarga completa:https://www.inegi.org.mx/contenidos/programas/ccpv/1970/tabulados/cgp70_nal_educacion.xlsx\n",
      "Archivo guardado:cgp70_nal_educacion.xlsx\n",
      "Descarga completa:https://www.inegi.org.mx/contenidos/programas/ccpv/1980/tabulados/cpyv80_nal_educacion.xlsx\n",
      "Archivo guardado:cpyv80_nal_educacion.xlsx\n",
      "Descarga completa:https://www.inegi.org.mx/contenidos/programas/ccpv/1990/tabulados/CPyV90_Nal_Caracteristicas_educativas.xlsx\n",
      "Archivo guardado:CPyV90_Nal_Caracteristicas_educativas.xlsx\n",
      "Descarga completa:https://www.inegi.org.mx/contenidos/programas/ccpv/1995/tabulados/Cont95Enum_NAL_Caracteristicas_educativas.xlsx\n",
      "Archivo guardado:Cont95Enum_NAL_Caracteristicas_educativas.xlsx\n",
      "El contenido de https://www.inegi.org.mx/contenidos/programas/ccpv/2000/datosabiertos/cgpv2000_iter_00_csv.zip se extrajo a ./Data/raw/DATOS EDUCACION/CENSOS DE POBLACION Y VIVIENDA/\n",
      "El contenido de https://www.inegi.org.mx/contenidos/programas/ccpv/2005/datosabiertos/cpv2005_iter_00_csv.zip se extrajo a ./Data/raw/DATOS EDUCACION/CENSOS DE POBLACION Y VIVIENDA/\n",
      "El contenido de https://www.inegi.org.mx/contenidos/programas/ccpv/2010/datosabiertos/iter_nal_2010_csv.zip se extrajo a ./Data/raw/DATOS EDUCACION/CENSOS DE POBLACION Y VIVIENDA/\n",
      "El contenido de https://www.inegi.org.mx/contenidos/programas/ccpv/2020/datosabiertos/iter/iter_00_cpv2020_csv.zip se extrajo a ./Data/raw/DATOS EDUCACION/CENSOS DE POBLACION Y VIVIENDA/\n"
     ]
    }
   ],
   "source": [
    "      \n",
    "# Descargar datos del censo del siglo XX\n",
    "for item in ccpv_siglo_XX:\n",
    "    descargar_archivo_xlsx(item[\"url\"], item[\"file_name\"], \"CENSOS DE POBLACION Y VIVIENDA\")\n",
    "\n",
    "\n",
    "# Descargar datos del censo del siglo XXI\n",
    "for item in ccpv_siglo_XXI:\n",
    "    descargar_archivo_zip(item[\"url\"], file_name=\"\",folder=\"CENSOS DE POBLACION Y VIVIENDA\")\n"
   ]
  },
  {
   "cell_type": "markdown",
   "metadata": {},
   "source": [
    "# Encuesta Nacional Sobre Acceso y Permanencia en la Educación 2021"
   ]
  },
  {
   "cell_type": "code",
   "execution_count": 4,
   "metadata": {},
   "outputs": [],
   "source": [
    "# Encuesta\n",
    "enape_2021=[\n",
    "\n",
    "        {\n",
    "            \"url\": \"https://www.inegi.org.mx/contenidos/programas/enape/2021/datosabiertos/conjunto_de_datos_enape_2021_csv.zip\",\n",
    "            \"data\": \"RU5DVUVTVEEgTkFDSU9OQUwgU09CUkUgQUNDRVNPIFkgUEVSTUFORU5DSUEgRU4gTEEgRURVQ0FDSU9OIDIwMjE=\",\n",
    "            \"file_name\": \"conjunto_de_datos_enape_2021_csv.zip\"\n",
    "        }\n",
    "        \n",
    "    ]\n"
   ]
  },
  {
   "cell_type": "code",
   "execution_count": 7,
   "metadata": {},
   "outputs": [
    {
     "name": "stdout",
     "output_type": "stream",
     "text": [
      "El contenido de https://www.inegi.org.mx/contenidos/programas/enape/2021/datosabiertos/conjunto_de_datos_enape_2021_csv.zip se extrajo a ./Data/raw/DATOS EDUCACION/ENCUESTA NACIONAL SOBRE ACCESO Y PERMANENCIA EN LA EDUCACION 2021/\n"
     ]
    }
   ],
   "source": [
    "# Descargar datos del ENAPE\n",
    "for item in enape_2021:\n",
    "        descargar_archivo_zip(item[\"url\"],file_name=\"\",folder=\"ENCUESTA NACIONAL SOBRE ACCESO Y PERMANENCIA EN LA EDUCACION 2021\")\n"
   ]
  },
  {
   "cell_type": "markdown",
   "metadata": {},
   "source": [
    "# Reporte de Indicadores Educativos"
   ]
  },
  {
   "cell_type": "code",
   "execution_count": null,
   "metadata": {},
   "outputs": [],
   "source": [
    "# \n",
    "sep_2023=[\n",
    "        {\n",
    "            \"url\": \"https://www.planeacion.sep.gob.mx/Doc/estadistica_e_indicadores/indicadores/reporte_indicadores_educativos_sep_2023.xls\",\n",
    "            \"data\": \"UkVQT1JURSBERSBJTkRJQ0FET1JFUyBFRFVDQVRJVk9T\",\n",
    "            \"file_name\": \"reporte_indicadores_educativos_sep_2023.xls\"\n",
    "        }\n",
    "    ]"
   ]
  },
  {
   "cell_type": "code",
   "execution_count": null,
   "metadata": {},
   "outputs": [
    {
     "ename": "SSLError",
     "evalue": "HTTPSConnectionPool(host='www.planeacion.sep.gob.mx', port=443): Max retries exceeded with url: /Doc/estadistica_e_indicadores/indicadores/reporte_indicadores_educativos_sep_2023.xls (Caused by SSLError(SSLCertVerificationError(1, '[SSL: CERTIFICATE_VERIFY_FAILED] certificate verify failed: unable to get local issuer certificate (_ssl.c:1000)')))",
     "output_type": "error",
     "traceback": [
      "\u001b[0;31m---------------------------------------------------------------------------\u001b[0m",
      "\u001b[0;31mSSLCertVerificationError\u001b[0m                  Traceback (most recent call last)",
      "File \u001b[0;32m~/Documents/Master/IngenieriaCaracteristicas/.venv/lib/python3.12/site-packages/urllib3/connectionpool.py:466\u001b[0m, in \u001b[0;36mHTTPConnectionPool._make_request\u001b[0;34m(self, conn, method, url, body, headers, retries, timeout, chunked, response_conn, preload_content, decode_content, enforce_content_length)\u001b[0m\n\u001b[1;32m    465\u001b[0m \u001b[38;5;28;01mtry\u001b[39;00m:\n\u001b[0;32m--> 466\u001b[0m     \u001b[38;5;28;43mself\u001b[39;49m\u001b[38;5;241;43m.\u001b[39;49m\u001b[43m_validate_conn\u001b[49m\u001b[43m(\u001b[49m\u001b[43mconn\u001b[49m\u001b[43m)\u001b[49m\n\u001b[1;32m    467\u001b[0m \u001b[38;5;28;01mexcept\u001b[39;00m (SocketTimeout, BaseSSLError) \u001b[38;5;28;01mas\u001b[39;00m e:\n",
      "File \u001b[0;32m~/Documents/Master/IngenieriaCaracteristicas/.venv/lib/python3.12/site-packages/urllib3/connectionpool.py:1095\u001b[0m, in \u001b[0;36mHTTPSConnectionPool._validate_conn\u001b[0;34m(self, conn)\u001b[0m\n\u001b[1;32m   1094\u001b[0m \u001b[38;5;28;01mif\u001b[39;00m conn\u001b[38;5;241m.\u001b[39mis_closed:\n\u001b[0;32m-> 1095\u001b[0m     \u001b[43mconn\u001b[49m\u001b[38;5;241;43m.\u001b[39;49m\u001b[43mconnect\u001b[49m\u001b[43m(\u001b[49m\u001b[43m)\u001b[49m\n\u001b[1;32m   1097\u001b[0m \u001b[38;5;66;03m# TODO revise this, see https://github.com/urllib3/urllib3/issues/2791\u001b[39;00m\n",
      "File \u001b[0;32m~/Documents/Master/IngenieriaCaracteristicas/.venv/lib/python3.12/site-packages/urllib3/connection.py:730\u001b[0m, in \u001b[0;36mHTTPSConnection.connect\u001b[0;34m(self)\u001b[0m\n\u001b[1;32m    728\u001b[0m server_hostname_rm_dot \u001b[38;5;241m=\u001b[39m server_hostname\u001b[38;5;241m.\u001b[39mrstrip(\u001b[38;5;124m\"\u001b[39m\u001b[38;5;124m.\u001b[39m\u001b[38;5;124m\"\u001b[39m)\n\u001b[0;32m--> 730\u001b[0m sock_and_verified \u001b[38;5;241m=\u001b[39m \u001b[43m_ssl_wrap_socket_and_match_hostname\u001b[49m\u001b[43m(\u001b[49m\n\u001b[1;32m    731\u001b[0m \u001b[43m    \u001b[49m\u001b[43msock\u001b[49m\u001b[38;5;241;43m=\u001b[39;49m\u001b[43msock\u001b[49m\u001b[43m,\u001b[49m\n\u001b[1;32m    732\u001b[0m \u001b[43m    \u001b[49m\u001b[43mcert_reqs\u001b[49m\u001b[38;5;241;43m=\u001b[39;49m\u001b[38;5;28;43mself\u001b[39;49m\u001b[38;5;241;43m.\u001b[39;49m\u001b[43mcert_reqs\u001b[49m\u001b[43m,\u001b[49m\n\u001b[1;32m    733\u001b[0m \u001b[43m    \u001b[49m\u001b[43mssl_version\u001b[49m\u001b[38;5;241;43m=\u001b[39;49m\u001b[38;5;28;43mself\u001b[39;49m\u001b[38;5;241;43m.\u001b[39;49m\u001b[43mssl_version\u001b[49m\u001b[43m,\u001b[49m\n\u001b[1;32m    734\u001b[0m \u001b[43m    \u001b[49m\u001b[43mssl_minimum_version\u001b[49m\u001b[38;5;241;43m=\u001b[39;49m\u001b[38;5;28;43mself\u001b[39;49m\u001b[38;5;241;43m.\u001b[39;49m\u001b[43mssl_minimum_version\u001b[49m\u001b[43m,\u001b[49m\n\u001b[1;32m    735\u001b[0m \u001b[43m    \u001b[49m\u001b[43mssl_maximum_version\u001b[49m\u001b[38;5;241;43m=\u001b[39;49m\u001b[38;5;28;43mself\u001b[39;49m\u001b[38;5;241;43m.\u001b[39;49m\u001b[43mssl_maximum_version\u001b[49m\u001b[43m,\u001b[49m\n\u001b[1;32m    736\u001b[0m \u001b[43m    \u001b[49m\u001b[43mca_certs\u001b[49m\u001b[38;5;241;43m=\u001b[39;49m\u001b[38;5;28;43mself\u001b[39;49m\u001b[38;5;241;43m.\u001b[39;49m\u001b[43mca_certs\u001b[49m\u001b[43m,\u001b[49m\n\u001b[1;32m    737\u001b[0m \u001b[43m    \u001b[49m\u001b[43mca_cert_dir\u001b[49m\u001b[38;5;241;43m=\u001b[39;49m\u001b[38;5;28;43mself\u001b[39;49m\u001b[38;5;241;43m.\u001b[39;49m\u001b[43mca_cert_dir\u001b[49m\u001b[43m,\u001b[49m\n\u001b[1;32m    738\u001b[0m \u001b[43m    \u001b[49m\u001b[43mca_cert_data\u001b[49m\u001b[38;5;241;43m=\u001b[39;49m\u001b[38;5;28;43mself\u001b[39;49m\u001b[38;5;241;43m.\u001b[39;49m\u001b[43mca_cert_data\u001b[49m\u001b[43m,\u001b[49m\n\u001b[1;32m    739\u001b[0m \u001b[43m    \u001b[49m\u001b[43mcert_file\u001b[49m\u001b[38;5;241;43m=\u001b[39;49m\u001b[38;5;28;43mself\u001b[39;49m\u001b[38;5;241;43m.\u001b[39;49m\u001b[43mcert_file\u001b[49m\u001b[43m,\u001b[49m\n\u001b[1;32m    740\u001b[0m \u001b[43m    \u001b[49m\u001b[43mkey_file\u001b[49m\u001b[38;5;241;43m=\u001b[39;49m\u001b[38;5;28;43mself\u001b[39;49m\u001b[38;5;241;43m.\u001b[39;49m\u001b[43mkey_file\u001b[49m\u001b[43m,\u001b[49m\n\u001b[1;32m    741\u001b[0m \u001b[43m    \u001b[49m\u001b[43mkey_password\u001b[49m\u001b[38;5;241;43m=\u001b[39;49m\u001b[38;5;28;43mself\u001b[39;49m\u001b[38;5;241;43m.\u001b[39;49m\u001b[43mkey_password\u001b[49m\u001b[43m,\u001b[49m\n\u001b[1;32m    742\u001b[0m \u001b[43m    \u001b[49m\u001b[43mserver_hostname\u001b[49m\u001b[38;5;241;43m=\u001b[39;49m\u001b[43mserver_hostname_rm_dot\u001b[49m\u001b[43m,\u001b[49m\n\u001b[1;32m    743\u001b[0m \u001b[43m    \u001b[49m\u001b[43mssl_context\u001b[49m\u001b[38;5;241;43m=\u001b[39;49m\u001b[38;5;28;43mself\u001b[39;49m\u001b[38;5;241;43m.\u001b[39;49m\u001b[43mssl_context\u001b[49m\u001b[43m,\u001b[49m\n\u001b[1;32m    744\u001b[0m \u001b[43m    \u001b[49m\u001b[43mtls_in_tls\u001b[49m\u001b[38;5;241;43m=\u001b[39;49m\u001b[43mtls_in_tls\u001b[49m\u001b[43m,\u001b[49m\n\u001b[1;32m    745\u001b[0m \u001b[43m    \u001b[49m\u001b[43massert_hostname\u001b[49m\u001b[38;5;241;43m=\u001b[39;49m\u001b[38;5;28;43mself\u001b[39;49m\u001b[38;5;241;43m.\u001b[39;49m\u001b[43massert_hostname\u001b[49m\u001b[43m,\u001b[49m\n\u001b[1;32m    746\u001b[0m \u001b[43m    \u001b[49m\u001b[43massert_fingerprint\u001b[49m\u001b[38;5;241;43m=\u001b[39;49m\u001b[38;5;28;43mself\u001b[39;49m\u001b[38;5;241;43m.\u001b[39;49m\u001b[43massert_fingerprint\u001b[49m\u001b[43m,\u001b[49m\n\u001b[1;32m    747\u001b[0m \u001b[43m\u001b[49m\u001b[43m)\u001b[49m\n\u001b[1;32m    748\u001b[0m \u001b[38;5;28mself\u001b[39m\u001b[38;5;241m.\u001b[39msock \u001b[38;5;241m=\u001b[39m sock_and_verified\u001b[38;5;241m.\u001b[39msocket\n",
      "File \u001b[0;32m~/Documents/Master/IngenieriaCaracteristicas/.venv/lib/python3.12/site-packages/urllib3/connection.py:909\u001b[0m, in \u001b[0;36m_ssl_wrap_socket_and_match_hostname\u001b[0;34m(sock, cert_reqs, ssl_version, ssl_minimum_version, ssl_maximum_version, cert_file, key_file, key_password, ca_certs, ca_cert_dir, ca_cert_data, assert_hostname, assert_fingerprint, server_hostname, ssl_context, tls_in_tls)\u001b[0m\n\u001b[1;32m    907\u001b[0m         server_hostname \u001b[38;5;241m=\u001b[39m normalized\n\u001b[0;32m--> 909\u001b[0m ssl_sock \u001b[38;5;241m=\u001b[39m \u001b[43mssl_wrap_socket\u001b[49m\u001b[43m(\u001b[49m\n\u001b[1;32m    910\u001b[0m \u001b[43m    \u001b[49m\u001b[43msock\u001b[49m\u001b[38;5;241;43m=\u001b[39;49m\u001b[43msock\u001b[49m\u001b[43m,\u001b[49m\n\u001b[1;32m    911\u001b[0m \u001b[43m    \u001b[49m\u001b[43mkeyfile\u001b[49m\u001b[38;5;241;43m=\u001b[39;49m\u001b[43mkey_file\u001b[49m\u001b[43m,\u001b[49m\n\u001b[1;32m    912\u001b[0m \u001b[43m    \u001b[49m\u001b[43mcertfile\u001b[49m\u001b[38;5;241;43m=\u001b[39;49m\u001b[43mcert_file\u001b[49m\u001b[43m,\u001b[49m\n\u001b[1;32m    913\u001b[0m \u001b[43m    \u001b[49m\u001b[43mkey_password\u001b[49m\u001b[38;5;241;43m=\u001b[39;49m\u001b[43mkey_password\u001b[49m\u001b[43m,\u001b[49m\n\u001b[1;32m    914\u001b[0m \u001b[43m    \u001b[49m\u001b[43mca_certs\u001b[49m\u001b[38;5;241;43m=\u001b[39;49m\u001b[43mca_certs\u001b[49m\u001b[43m,\u001b[49m\n\u001b[1;32m    915\u001b[0m \u001b[43m    \u001b[49m\u001b[43mca_cert_dir\u001b[49m\u001b[38;5;241;43m=\u001b[39;49m\u001b[43mca_cert_dir\u001b[49m\u001b[43m,\u001b[49m\n\u001b[1;32m    916\u001b[0m \u001b[43m    \u001b[49m\u001b[43mca_cert_data\u001b[49m\u001b[38;5;241;43m=\u001b[39;49m\u001b[43mca_cert_data\u001b[49m\u001b[43m,\u001b[49m\n\u001b[1;32m    917\u001b[0m \u001b[43m    \u001b[49m\u001b[43mserver_hostname\u001b[49m\u001b[38;5;241;43m=\u001b[39;49m\u001b[43mserver_hostname\u001b[49m\u001b[43m,\u001b[49m\n\u001b[1;32m    918\u001b[0m \u001b[43m    \u001b[49m\u001b[43mssl_context\u001b[49m\u001b[38;5;241;43m=\u001b[39;49m\u001b[43mcontext\u001b[49m\u001b[43m,\u001b[49m\n\u001b[1;32m    919\u001b[0m \u001b[43m    \u001b[49m\u001b[43mtls_in_tls\u001b[49m\u001b[38;5;241;43m=\u001b[39;49m\u001b[43mtls_in_tls\u001b[49m\u001b[43m,\u001b[49m\n\u001b[1;32m    920\u001b[0m \u001b[43m\u001b[49m\u001b[43m)\u001b[49m\n\u001b[1;32m    922\u001b[0m \u001b[38;5;28;01mtry\u001b[39;00m:\n",
      "File \u001b[0;32m~/Documents/Master/IngenieriaCaracteristicas/.venv/lib/python3.12/site-packages/urllib3/util/ssl_.py:469\u001b[0m, in \u001b[0;36mssl_wrap_socket\u001b[0;34m(sock, keyfile, certfile, cert_reqs, ca_certs, server_hostname, ssl_version, ciphers, ssl_context, ca_cert_dir, key_password, ca_cert_data, tls_in_tls)\u001b[0m\n\u001b[1;32m    467\u001b[0m context\u001b[38;5;241m.\u001b[39mset_alpn_protocols(ALPN_PROTOCOLS)\n\u001b[0;32m--> 469\u001b[0m ssl_sock \u001b[38;5;241m=\u001b[39m \u001b[43m_ssl_wrap_socket_impl\u001b[49m\u001b[43m(\u001b[49m\u001b[43msock\u001b[49m\u001b[43m,\u001b[49m\u001b[43m \u001b[49m\u001b[43mcontext\u001b[49m\u001b[43m,\u001b[49m\u001b[43m \u001b[49m\u001b[43mtls_in_tls\u001b[49m\u001b[43m,\u001b[49m\u001b[43m \u001b[49m\u001b[43mserver_hostname\u001b[49m\u001b[43m)\u001b[49m\n\u001b[1;32m    470\u001b[0m \u001b[38;5;28;01mreturn\u001b[39;00m ssl_sock\n",
      "File \u001b[0;32m~/Documents/Master/IngenieriaCaracteristicas/.venv/lib/python3.12/site-packages/urllib3/util/ssl_.py:513\u001b[0m, in \u001b[0;36m_ssl_wrap_socket_impl\u001b[0;34m(sock, ssl_context, tls_in_tls, server_hostname)\u001b[0m\n\u001b[1;32m    511\u001b[0m     \u001b[38;5;28;01mreturn\u001b[39;00m SSLTransport(sock, ssl_context, server_hostname)\n\u001b[0;32m--> 513\u001b[0m \u001b[38;5;28;01mreturn\u001b[39;00m \u001b[43mssl_context\u001b[49m\u001b[38;5;241;43m.\u001b[39;49m\u001b[43mwrap_socket\u001b[49m\u001b[43m(\u001b[49m\u001b[43msock\u001b[49m\u001b[43m,\u001b[49m\u001b[43m \u001b[49m\u001b[43mserver_hostname\u001b[49m\u001b[38;5;241;43m=\u001b[39;49m\u001b[43mserver_hostname\u001b[49m\u001b[43m)\u001b[49m\n",
      "File \u001b[0;32m/opt/homebrew/Cellar/python@3.12/3.12.5/Frameworks/Python.framework/Versions/3.12/lib/python3.12/ssl.py:455\u001b[0m, in \u001b[0;36mSSLContext.wrap_socket\u001b[0;34m(self, sock, server_side, do_handshake_on_connect, suppress_ragged_eofs, server_hostname, session)\u001b[0m\n\u001b[1;32m    449\u001b[0m \u001b[38;5;28;01mdef\u001b[39;00m \u001b[38;5;21mwrap_socket\u001b[39m(\u001b[38;5;28mself\u001b[39m, sock, server_side\u001b[38;5;241m=\u001b[39m\u001b[38;5;28;01mFalse\u001b[39;00m,\n\u001b[1;32m    450\u001b[0m                 do_handshake_on_connect\u001b[38;5;241m=\u001b[39m\u001b[38;5;28;01mTrue\u001b[39;00m,\n\u001b[1;32m    451\u001b[0m                 suppress_ragged_eofs\u001b[38;5;241m=\u001b[39m\u001b[38;5;28;01mTrue\u001b[39;00m,\n\u001b[1;32m    452\u001b[0m                 server_hostname\u001b[38;5;241m=\u001b[39m\u001b[38;5;28;01mNone\u001b[39;00m, session\u001b[38;5;241m=\u001b[39m\u001b[38;5;28;01mNone\u001b[39;00m):\n\u001b[1;32m    453\u001b[0m     \u001b[38;5;66;03m# SSLSocket class handles server_hostname encoding before it calls\u001b[39;00m\n\u001b[1;32m    454\u001b[0m     \u001b[38;5;66;03m# ctx._wrap_socket()\u001b[39;00m\n\u001b[0;32m--> 455\u001b[0m     \u001b[38;5;28;01mreturn\u001b[39;00m \u001b[38;5;28;43mself\u001b[39;49m\u001b[38;5;241;43m.\u001b[39;49m\u001b[43msslsocket_class\u001b[49m\u001b[38;5;241;43m.\u001b[39;49m\u001b[43m_create\u001b[49m\u001b[43m(\u001b[49m\n\u001b[1;32m    456\u001b[0m \u001b[43m        \u001b[49m\u001b[43msock\u001b[49m\u001b[38;5;241;43m=\u001b[39;49m\u001b[43msock\u001b[49m\u001b[43m,\u001b[49m\n\u001b[1;32m    457\u001b[0m \u001b[43m        \u001b[49m\u001b[43mserver_side\u001b[49m\u001b[38;5;241;43m=\u001b[39;49m\u001b[43mserver_side\u001b[49m\u001b[43m,\u001b[49m\n\u001b[1;32m    458\u001b[0m \u001b[43m        \u001b[49m\u001b[43mdo_handshake_on_connect\u001b[49m\u001b[38;5;241;43m=\u001b[39;49m\u001b[43mdo_handshake_on_connect\u001b[49m\u001b[43m,\u001b[49m\n\u001b[1;32m    459\u001b[0m \u001b[43m        \u001b[49m\u001b[43msuppress_ragged_eofs\u001b[49m\u001b[38;5;241;43m=\u001b[39;49m\u001b[43msuppress_ragged_eofs\u001b[49m\u001b[43m,\u001b[49m\n\u001b[1;32m    460\u001b[0m \u001b[43m        \u001b[49m\u001b[43mserver_hostname\u001b[49m\u001b[38;5;241;43m=\u001b[39;49m\u001b[43mserver_hostname\u001b[49m\u001b[43m,\u001b[49m\n\u001b[1;32m    461\u001b[0m \u001b[43m        \u001b[49m\u001b[43mcontext\u001b[49m\u001b[38;5;241;43m=\u001b[39;49m\u001b[38;5;28;43mself\u001b[39;49m\u001b[43m,\u001b[49m\n\u001b[1;32m    462\u001b[0m \u001b[43m        \u001b[49m\u001b[43msession\u001b[49m\u001b[38;5;241;43m=\u001b[39;49m\u001b[43msession\u001b[49m\n\u001b[1;32m    463\u001b[0m \u001b[43m    \u001b[49m\u001b[43m)\u001b[49m\n",
      "File \u001b[0;32m/opt/homebrew/Cellar/python@3.12/3.12.5/Frameworks/Python.framework/Versions/3.12/lib/python3.12/ssl.py:1042\u001b[0m, in \u001b[0;36mSSLSocket._create\u001b[0;34m(cls, sock, server_side, do_handshake_on_connect, suppress_ragged_eofs, server_hostname, context, session)\u001b[0m\n\u001b[1;32m   1041\u001b[0m                 \u001b[38;5;28;01mraise\u001b[39;00m \u001b[38;5;167;01mValueError\u001b[39;00m(\u001b[38;5;124m\"\u001b[39m\u001b[38;5;124mdo_handshake_on_connect should not be specified for non-blocking sockets\u001b[39m\u001b[38;5;124m\"\u001b[39m)\n\u001b[0;32m-> 1042\u001b[0m             \u001b[38;5;28;43mself\u001b[39;49m\u001b[38;5;241;43m.\u001b[39;49m\u001b[43mdo_handshake\u001b[49m\u001b[43m(\u001b[49m\u001b[43m)\u001b[49m\n\u001b[1;32m   1043\u001b[0m \u001b[38;5;28;01mexcept\u001b[39;00m:\n",
      "File \u001b[0;32m/opt/homebrew/Cellar/python@3.12/3.12.5/Frameworks/Python.framework/Versions/3.12/lib/python3.12/ssl.py:1320\u001b[0m, in \u001b[0;36mSSLSocket.do_handshake\u001b[0;34m(self, block)\u001b[0m\n\u001b[1;32m   1319\u001b[0m         \u001b[38;5;28mself\u001b[39m\u001b[38;5;241m.\u001b[39msettimeout(\u001b[38;5;28;01mNone\u001b[39;00m)\n\u001b[0;32m-> 1320\u001b[0m     \u001b[38;5;28;43mself\u001b[39;49m\u001b[38;5;241;43m.\u001b[39;49m\u001b[43m_sslobj\u001b[49m\u001b[38;5;241;43m.\u001b[39;49m\u001b[43mdo_handshake\u001b[49m\u001b[43m(\u001b[49m\u001b[43m)\u001b[49m\n\u001b[1;32m   1321\u001b[0m \u001b[38;5;28;01mfinally\u001b[39;00m:\n",
      "\u001b[0;31mSSLCertVerificationError\u001b[0m: [SSL: CERTIFICATE_VERIFY_FAILED] certificate verify failed: unable to get local issuer certificate (_ssl.c:1000)",
      "\nDuring handling of the above exception, another exception occurred:\n",
      "\u001b[0;31mSSLError\u001b[0m                                  Traceback (most recent call last)",
      "File \u001b[0;32m~/Documents/Master/IngenieriaCaracteristicas/.venv/lib/python3.12/site-packages/urllib3/connectionpool.py:789\u001b[0m, in \u001b[0;36mHTTPConnectionPool.urlopen\u001b[0;34m(self, method, url, body, headers, retries, redirect, assert_same_host, timeout, pool_timeout, release_conn, chunked, body_pos, preload_content, decode_content, **response_kw)\u001b[0m\n\u001b[1;32m    788\u001b[0m \u001b[38;5;66;03m# Make the request on the HTTPConnection object\u001b[39;00m\n\u001b[0;32m--> 789\u001b[0m response \u001b[38;5;241m=\u001b[39m \u001b[38;5;28;43mself\u001b[39;49m\u001b[38;5;241;43m.\u001b[39;49m\u001b[43m_make_request\u001b[49m\u001b[43m(\u001b[49m\n\u001b[1;32m    790\u001b[0m \u001b[43m    \u001b[49m\u001b[43mconn\u001b[49m\u001b[43m,\u001b[49m\n\u001b[1;32m    791\u001b[0m \u001b[43m    \u001b[49m\u001b[43mmethod\u001b[49m\u001b[43m,\u001b[49m\n\u001b[1;32m    792\u001b[0m \u001b[43m    \u001b[49m\u001b[43murl\u001b[49m\u001b[43m,\u001b[49m\n\u001b[1;32m    793\u001b[0m \u001b[43m    \u001b[49m\u001b[43mtimeout\u001b[49m\u001b[38;5;241;43m=\u001b[39;49m\u001b[43mtimeout_obj\u001b[49m\u001b[43m,\u001b[49m\n\u001b[1;32m    794\u001b[0m \u001b[43m    \u001b[49m\u001b[43mbody\u001b[49m\u001b[38;5;241;43m=\u001b[39;49m\u001b[43mbody\u001b[49m\u001b[43m,\u001b[49m\n\u001b[1;32m    795\u001b[0m \u001b[43m    \u001b[49m\u001b[43mheaders\u001b[49m\u001b[38;5;241;43m=\u001b[39;49m\u001b[43mheaders\u001b[49m\u001b[43m,\u001b[49m\n\u001b[1;32m    796\u001b[0m \u001b[43m    \u001b[49m\u001b[43mchunked\u001b[49m\u001b[38;5;241;43m=\u001b[39;49m\u001b[43mchunked\u001b[49m\u001b[43m,\u001b[49m\n\u001b[1;32m    797\u001b[0m \u001b[43m    \u001b[49m\u001b[43mretries\u001b[49m\u001b[38;5;241;43m=\u001b[39;49m\u001b[43mretries\u001b[49m\u001b[43m,\u001b[49m\n\u001b[1;32m    798\u001b[0m \u001b[43m    \u001b[49m\u001b[43mresponse_conn\u001b[49m\u001b[38;5;241;43m=\u001b[39;49m\u001b[43mresponse_conn\u001b[49m\u001b[43m,\u001b[49m\n\u001b[1;32m    799\u001b[0m \u001b[43m    \u001b[49m\u001b[43mpreload_content\u001b[49m\u001b[38;5;241;43m=\u001b[39;49m\u001b[43mpreload_content\u001b[49m\u001b[43m,\u001b[49m\n\u001b[1;32m    800\u001b[0m \u001b[43m    \u001b[49m\u001b[43mdecode_content\u001b[49m\u001b[38;5;241;43m=\u001b[39;49m\u001b[43mdecode_content\u001b[49m\u001b[43m,\u001b[49m\n\u001b[1;32m    801\u001b[0m \u001b[43m    \u001b[49m\u001b[38;5;241;43m*\u001b[39;49m\u001b[38;5;241;43m*\u001b[39;49m\u001b[43mresponse_kw\u001b[49m\u001b[43m,\u001b[49m\n\u001b[1;32m    802\u001b[0m \u001b[43m\u001b[49m\u001b[43m)\u001b[49m\n\u001b[1;32m    804\u001b[0m \u001b[38;5;66;03m# Everything went great!\u001b[39;00m\n",
      "File \u001b[0;32m~/Documents/Master/IngenieriaCaracteristicas/.venv/lib/python3.12/site-packages/urllib3/connectionpool.py:490\u001b[0m, in \u001b[0;36mHTTPConnectionPool._make_request\u001b[0;34m(self, conn, method, url, body, headers, retries, timeout, chunked, response_conn, preload_content, decode_content, enforce_content_length)\u001b[0m\n\u001b[1;32m    489\u001b[0m         new_e \u001b[38;5;241m=\u001b[39m _wrap_proxy_error(new_e, conn\u001b[38;5;241m.\u001b[39mproxy\u001b[38;5;241m.\u001b[39mscheme)\n\u001b[0;32m--> 490\u001b[0m     \u001b[38;5;28;01mraise\u001b[39;00m new_e\n\u001b[1;32m    492\u001b[0m \u001b[38;5;66;03m# conn.request() calls http.client.*.request, not the method in\u001b[39;00m\n\u001b[1;32m    493\u001b[0m \u001b[38;5;66;03m# urllib3.request. It also calls makefile (recv) on the socket.\u001b[39;00m\n",
      "\u001b[0;31mSSLError\u001b[0m: [SSL: CERTIFICATE_VERIFY_FAILED] certificate verify failed: unable to get local issuer certificate (_ssl.c:1000)",
      "\nThe above exception was the direct cause of the following exception:\n",
      "\u001b[0;31mMaxRetryError\u001b[0m                             Traceback (most recent call last)",
      "File \u001b[0;32m~/Documents/Master/IngenieriaCaracteristicas/.venv/lib/python3.12/site-packages/requests/adapters.py:667\u001b[0m, in \u001b[0;36mHTTPAdapter.send\u001b[0;34m(self, request, stream, timeout, verify, cert, proxies)\u001b[0m\n\u001b[1;32m    666\u001b[0m \u001b[38;5;28;01mtry\u001b[39;00m:\n\u001b[0;32m--> 667\u001b[0m     resp \u001b[38;5;241m=\u001b[39m \u001b[43mconn\u001b[49m\u001b[38;5;241;43m.\u001b[39;49m\u001b[43murlopen\u001b[49m\u001b[43m(\u001b[49m\n\u001b[1;32m    668\u001b[0m \u001b[43m        \u001b[49m\u001b[43mmethod\u001b[49m\u001b[38;5;241;43m=\u001b[39;49m\u001b[43mrequest\u001b[49m\u001b[38;5;241;43m.\u001b[39;49m\u001b[43mmethod\u001b[49m\u001b[43m,\u001b[49m\n\u001b[1;32m    669\u001b[0m \u001b[43m        \u001b[49m\u001b[43murl\u001b[49m\u001b[38;5;241;43m=\u001b[39;49m\u001b[43murl\u001b[49m\u001b[43m,\u001b[49m\n\u001b[1;32m    670\u001b[0m \u001b[43m        \u001b[49m\u001b[43mbody\u001b[49m\u001b[38;5;241;43m=\u001b[39;49m\u001b[43mrequest\u001b[49m\u001b[38;5;241;43m.\u001b[39;49m\u001b[43mbody\u001b[49m\u001b[43m,\u001b[49m\n\u001b[1;32m    671\u001b[0m \u001b[43m        \u001b[49m\u001b[43mheaders\u001b[49m\u001b[38;5;241;43m=\u001b[39;49m\u001b[43mrequest\u001b[49m\u001b[38;5;241;43m.\u001b[39;49m\u001b[43mheaders\u001b[49m\u001b[43m,\u001b[49m\n\u001b[1;32m    672\u001b[0m \u001b[43m        \u001b[49m\u001b[43mredirect\u001b[49m\u001b[38;5;241;43m=\u001b[39;49m\u001b[38;5;28;43;01mFalse\u001b[39;49;00m\u001b[43m,\u001b[49m\n\u001b[1;32m    673\u001b[0m \u001b[43m        \u001b[49m\u001b[43massert_same_host\u001b[49m\u001b[38;5;241;43m=\u001b[39;49m\u001b[38;5;28;43;01mFalse\u001b[39;49;00m\u001b[43m,\u001b[49m\n\u001b[1;32m    674\u001b[0m \u001b[43m        \u001b[49m\u001b[43mpreload_content\u001b[49m\u001b[38;5;241;43m=\u001b[39;49m\u001b[38;5;28;43;01mFalse\u001b[39;49;00m\u001b[43m,\u001b[49m\n\u001b[1;32m    675\u001b[0m \u001b[43m        \u001b[49m\u001b[43mdecode_content\u001b[49m\u001b[38;5;241;43m=\u001b[39;49m\u001b[38;5;28;43;01mFalse\u001b[39;49;00m\u001b[43m,\u001b[49m\n\u001b[1;32m    676\u001b[0m \u001b[43m        \u001b[49m\u001b[43mretries\u001b[49m\u001b[38;5;241;43m=\u001b[39;49m\u001b[38;5;28;43mself\u001b[39;49m\u001b[38;5;241;43m.\u001b[39;49m\u001b[43mmax_retries\u001b[49m\u001b[43m,\u001b[49m\n\u001b[1;32m    677\u001b[0m \u001b[43m        \u001b[49m\u001b[43mtimeout\u001b[49m\u001b[38;5;241;43m=\u001b[39;49m\u001b[43mtimeout\u001b[49m\u001b[43m,\u001b[49m\n\u001b[1;32m    678\u001b[0m \u001b[43m        \u001b[49m\u001b[43mchunked\u001b[49m\u001b[38;5;241;43m=\u001b[39;49m\u001b[43mchunked\u001b[49m\u001b[43m,\u001b[49m\n\u001b[1;32m    679\u001b[0m \u001b[43m    \u001b[49m\u001b[43m)\u001b[49m\n\u001b[1;32m    681\u001b[0m \u001b[38;5;28;01mexcept\u001b[39;00m (ProtocolError, \u001b[38;5;167;01mOSError\u001b[39;00m) \u001b[38;5;28;01mas\u001b[39;00m err:\n",
      "File \u001b[0;32m~/Documents/Master/IngenieriaCaracteristicas/.venv/lib/python3.12/site-packages/urllib3/connectionpool.py:843\u001b[0m, in \u001b[0;36mHTTPConnectionPool.urlopen\u001b[0;34m(self, method, url, body, headers, retries, redirect, assert_same_host, timeout, pool_timeout, release_conn, chunked, body_pos, preload_content, decode_content, **response_kw)\u001b[0m\n\u001b[1;32m    841\u001b[0m     new_e \u001b[38;5;241m=\u001b[39m ProtocolError(\u001b[38;5;124m\"\u001b[39m\u001b[38;5;124mConnection aborted.\u001b[39m\u001b[38;5;124m\"\u001b[39m, new_e)\n\u001b[0;32m--> 843\u001b[0m retries \u001b[38;5;241m=\u001b[39m \u001b[43mretries\u001b[49m\u001b[38;5;241;43m.\u001b[39;49m\u001b[43mincrement\u001b[49m\u001b[43m(\u001b[49m\n\u001b[1;32m    844\u001b[0m \u001b[43m    \u001b[49m\u001b[43mmethod\u001b[49m\u001b[43m,\u001b[49m\u001b[43m \u001b[49m\u001b[43murl\u001b[49m\u001b[43m,\u001b[49m\u001b[43m \u001b[49m\u001b[43merror\u001b[49m\u001b[38;5;241;43m=\u001b[39;49m\u001b[43mnew_e\u001b[49m\u001b[43m,\u001b[49m\u001b[43m \u001b[49m\u001b[43m_pool\u001b[49m\u001b[38;5;241;43m=\u001b[39;49m\u001b[38;5;28;43mself\u001b[39;49m\u001b[43m,\u001b[49m\u001b[43m \u001b[49m\u001b[43m_stacktrace\u001b[49m\u001b[38;5;241;43m=\u001b[39;49m\u001b[43msys\u001b[49m\u001b[38;5;241;43m.\u001b[39;49m\u001b[43mexc_info\u001b[49m\u001b[43m(\u001b[49m\u001b[43m)\u001b[49m\u001b[43m[\u001b[49m\u001b[38;5;241;43m2\u001b[39;49m\u001b[43m]\u001b[49m\n\u001b[1;32m    845\u001b[0m \u001b[43m\u001b[49m\u001b[43m)\u001b[49m\n\u001b[1;32m    846\u001b[0m retries\u001b[38;5;241m.\u001b[39msleep()\n",
      "File \u001b[0;32m~/Documents/Master/IngenieriaCaracteristicas/.venv/lib/python3.12/site-packages/urllib3/util/retry.py:519\u001b[0m, in \u001b[0;36mRetry.increment\u001b[0;34m(self, method, url, response, error, _pool, _stacktrace)\u001b[0m\n\u001b[1;32m    518\u001b[0m     reason \u001b[38;5;241m=\u001b[39m error \u001b[38;5;129;01mor\u001b[39;00m ResponseError(cause)\n\u001b[0;32m--> 519\u001b[0m     \u001b[38;5;28;01mraise\u001b[39;00m MaxRetryError(_pool, url, reason) \u001b[38;5;28;01mfrom\u001b[39;00m \u001b[38;5;21;01mreason\u001b[39;00m  \u001b[38;5;66;03m# type: ignore[arg-type]\u001b[39;00m\n\u001b[1;32m    521\u001b[0m log\u001b[38;5;241m.\u001b[39mdebug(\u001b[38;5;124m\"\u001b[39m\u001b[38;5;124mIncremented Retry for (url=\u001b[39m\u001b[38;5;124m'\u001b[39m\u001b[38;5;132;01m%s\u001b[39;00m\u001b[38;5;124m'\u001b[39m\u001b[38;5;124m): \u001b[39m\u001b[38;5;132;01m%r\u001b[39;00m\u001b[38;5;124m\"\u001b[39m, url, new_retry)\n",
      "\u001b[0;31mMaxRetryError\u001b[0m: HTTPSConnectionPool(host='www.planeacion.sep.gob.mx', port=443): Max retries exceeded with url: /Doc/estadistica_e_indicadores/indicadores/reporte_indicadores_educativos_sep_2023.xls (Caused by SSLError(SSLCertVerificationError(1, '[SSL: CERTIFICATE_VERIFY_FAILED] certificate verify failed: unable to get local issuer certificate (_ssl.c:1000)')))",
      "\nDuring handling of the above exception, another exception occurred:\n",
      "\u001b[0;31mSSLError\u001b[0m                                  Traceback (most recent call last)",
      "Cell \u001b[0;32mIn[27], line 3\u001b[0m\n\u001b[1;32m      1\u001b[0m \u001b[38;5;66;03m# Descargar datos del reporte del SEP\u001b[39;00m\n\u001b[1;32m      2\u001b[0m \u001b[38;5;28;01mfor\u001b[39;00m item \u001b[38;5;129;01min\u001b[39;00m sep_2023:\n\u001b[0;32m----> 3\u001b[0m     \u001b[43mdescargar_archivo_xlsx\u001b[49m\u001b[43m(\u001b[49m\u001b[43mitem\u001b[49m\u001b[43m[\u001b[49m\u001b[38;5;124;43m\"\u001b[39;49m\u001b[38;5;124;43murl\u001b[39;49m\u001b[38;5;124;43m\"\u001b[39;49m\u001b[43m]\u001b[49m\u001b[43m,\u001b[49m\u001b[43m \u001b[49m\u001b[38;5;124;43m\"\u001b[39;49m\u001b[38;5;124;43mREPORTE DE INDICADORES EDUCATIVOS\u001b[39;49m\u001b[38;5;124;43m\"\u001b[39;49m\u001b[43m,\u001b[49m\u001b[43m \u001b[49m\u001b[43mitem\u001b[49m\u001b[43m[\u001b[49m\u001b[38;5;124;43m\"\u001b[39;49m\u001b[38;5;124;43mfile_name\u001b[39;49m\u001b[38;5;124;43m\"\u001b[39;49m\u001b[43m]\u001b[49m\u001b[43m)\u001b[49m\n",
      "Cell \u001b[0;32mIn[18], line 50\u001b[0m, in \u001b[0;36mdescargar_archivo_xlsx\u001b[0;34m(url, file_name, folder)\u001b[0m\n\u001b[1;32m     48\u001b[0m os\u001b[38;5;241m.\u001b[39mmakedirs(download_path, exist_ok\u001b[38;5;241m=\u001b[39m\u001b[38;5;28;01mTrue\u001b[39;00m)\n\u001b[1;32m     49\u001b[0m \u001b[38;5;66;03m# Se hace una petición GET al url\u001b[39;00m\n\u001b[0;32m---> 50\u001b[0m response \u001b[38;5;241m=\u001b[39m \u001b[43mrequests\u001b[49m\u001b[38;5;241;43m.\u001b[39;49m\u001b[43mget\u001b[49m\u001b[43m(\u001b[49m\u001b[43murl\u001b[49m\u001b[43m)\u001b[49m\n\u001b[1;32m     53\u001b[0m \u001b[38;5;28;01mif\u001b[39;00m response\u001b[38;5;241m.\u001b[39mstatus_code \u001b[38;5;241m==\u001b[39m \u001b[38;5;241m200\u001b[39m:\n\u001b[1;32m     55\u001b[0m     file_path\u001b[38;5;241m=\u001b[39m\u001b[38;5;124mf\u001b[39m\u001b[38;5;124m\"\u001b[39m\u001b[38;5;132;01m{\u001b[39;00mdownload_path\u001b[38;5;132;01m}\u001b[39;00m\u001b[38;5;124m/\u001b[39m\u001b[38;5;132;01m{\u001b[39;00mfile_name\u001b[38;5;132;01m}\u001b[39;00m\u001b[38;5;124m\"\u001b[39m\n",
      "File \u001b[0;32m~/Documents/Master/IngenieriaCaracteristicas/.venv/lib/python3.12/site-packages/requests/api.py:73\u001b[0m, in \u001b[0;36mget\u001b[0;34m(url, params, **kwargs)\u001b[0m\n\u001b[1;32m     62\u001b[0m \u001b[38;5;28;01mdef\u001b[39;00m \u001b[38;5;21mget\u001b[39m(url, params\u001b[38;5;241m=\u001b[39m\u001b[38;5;28;01mNone\u001b[39;00m, \u001b[38;5;241m*\u001b[39m\u001b[38;5;241m*\u001b[39mkwargs):\n\u001b[1;32m     63\u001b[0m \u001b[38;5;250m    \u001b[39m\u001b[38;5;124mr\u001b[39m\u001b[38;5;124;03m\"\"\"Sends a GET request.\u001b[39;00m\n\u001b[1;32m     64\u001b[0m \n\u001b[1;32m     65\u001b[0m \u001b[38;5;124;03m    :param url: URL for the new :class:`Request` object.\u001b[39;00m\n\u001b[0;32m   (...)\u001b[0m\n\u001b[1;32m     70\u001b[0m \u001b[38;5;124;03m    :rtype: requests.Response\u001b[39;00m\n\u001b[1;32m     71\u001b[0m \u001b[38;5;124;03m    \"\"\"\u001b[39;00m\n\u001b[0;32m---> 73\u001b[0m     \u001b[38;5;28;01mreturn\u001b[39;00m \u001b[43mrequest\u001b[49m\u001b[43m(\u001b[49m\u001b[38;5;124;43m\"\u001b[39;49m\u001b[38;5;124;43mget\u001b[39;49m\u001b[38;5;124;43m\"\u001b[39;49m\u001b[43m,\u001b[49m\u001b[43m \u001b[49m\u001b[43murl\u001b[49m\u001b[43m,\u001b[49m\u001b[43m \u001b[49m\u001b[43mparams\u001b[49m\u001b[38;5;241;43m=\u001b[39;49m\u001b[43mparams\u001b[49m\u001b[43m,\u001b[49m\u001b[43m \u001b[49m\u001b[38;5;241;43m*\u001b[39;49m\u001b[38;5;241;43m*\u001b[39;49m\u001b[43mkwargs\u001b[49m\u001b[43m)\u001b[49m\n",
      "File \u001b[0;32m~/Documents/Master/IngenieriaCaracteristicas/.venv/lib/python3.12/site-packages/requests/api.py:59\u001b[0m, in \u001b[0;36mrequest\u001b[0;34m(method, url, **kwargs)\u001b[0m\n\u001b[1;32m     55\u001b[0m \u001b[38;5;66;03m# By using the 'with' statement we are sure the session is closed, thus we\u001b[39;00m\n\u001b[1;32m     56\u001b[0m \u001b[38;5;66;03m# avoid leaving sockets open which can trigger a ResourceWarning in some\u001b[39;00m\n\u001b[1;32m     57\u001b[0m \u001b[38;5;66;03m# cases, and look like a memory leak in others.\u001b[39;00m\n\u001b[1;32m     58\u001b[0m \u001b[38;5;28;01mwith\u001b[39;00m sessions\u001b[38;5;241m.\u001b[39mSession() \u001b[38;5;28;01mas\u001b[39;00m session:\n\u001b[0;32m---> 59\u001b[0m     \u001b[38;5;28;01mreturn\u001b[39;00m \u001b[43msession\u001b[49m\u001b[38;5;241;43m.\u001b[39;49m\u001b[43mrequest\u001b[49m\u001b[43m(\u001b[49m\u001b[43mmethod\u001b[49m\u001b[38;5;241;43m=\u001b[39;49m\u001b[43mmethod\u001b[49m\u001b[43m,\u001b[49m\u001b[43m \u001b[49m\u001b[43murl\u001b[49m\u001b[38;5;241;43m=\u001b[39;49m\u001b[43murl\u001b[49m\u001b[43m,\u001b[49m\u001b[43m \u001b[49m\u001b[38;5;241;43m*\u001b[39;49m\u001b[38;5;241;43m*\u001b[39;49m\u001b[43mkwargs\u001b[49m\u001b[43m)\u001b[49m\n",
      "File \u001b[0;32m~/Documents/Master/IngenieriaCaracteristicas/.venv/lib/python3.12/site-packages/requests/sessions.py:589\u001b[0m, in \u001b[0;36mSession.request\u001b[0;34m(self, method, url, params, data, headers, cookies, files, auth, timeout, allow_redirects, proxies, hooks, stream, verify, cert, json)\u001b[0m\n\u001b[1;32m    584\u001b[0m send_kwargs \u001b[38;5;241m=\u001b[39m {\n\u001b[1;32m    585\u001b[0m     \u001b[38;5;124m\"\u001b[39m\u001b[38;5;124mtimeout\u001b[39m\u001b[38;5;124m\"\u001b[39m: timeout,\n\u001b[1;32m    586\u001b[0m     \u001b[38;5;124m\"\u001b[39m\u001b[38;5;124mallow_redirects\u001b[39m\u001b[38;5;124m\"\u001b[39m: allow_redirects,\n\u001b[1;32m    587\u001b[0m }\n\u001b[1;32m    588\u001b[0m send_kwargs\u001b[38;5;241m.\u001b[39mupdate(settings)\n\u001b[0;32m--> 589\u001b[0m resp \u001b[38;5;241m=\u001b[39m \u001b[38;5;28;43mself\u001b[39;49m\u001b[38;5;241;43m.\u001b[39;49m\u001b[43msend\u001b[49m\u001b[43m(\u001b[49m\u001b[43mprep\u001b[49m\u001b[43m,\u001b[49m\u001b[43m \u001b[49m\u001b[38;5;241;43m*\u001b[39;49m\u001b[38;5;241;43m*\u001b[39;49m\u001b[43msend_kwargs\u001b[49m\u001b[43m)\u001b[49m\n\u001b[1;32m    591\u001b[0m \u001b[38;5;28;01mreturn\u001b[39;00m resp\n",
      "File \u001b[0;32m~/Documents/Master/IngenieriaCaracteristicas/.venv/lib/python3.12/site-packages/requests/sessions.py:703\u001b[0m, in \u001b[0;36mSession.send\u001b[0;34m(self, request, **kwargs)\u001b[0m\n\u001b[1;32m    700\u001b[0m start \u001b[38;5;241m=\u001b[39m preferred_clock()\n\u001b[1;32m    702\u001b[0m \u001b[38;5;66;03m# Send the request\u001b[39;00m\n\u001b[0;32m--> 703\u001b[0m r \u001b[38;5;241m=\u001b[39m \u001b[43madapter\u001b[49m\u001b[38;5;241;43m.\u001b[39;49m\u001b[43msend\u001b[49m\u001b[43m(\u001b[49m\u001b[43mrequest\u001b[49m\u001b[43m,\u001b[49m\u001b[43m \u001b[49m\u001b[38;5;241;43m*\u001b[39;49m\u001b[38;5;241;43m*\u001b[39;49m\u001b[43mkwargs\u001b[49m\u001b[43m)\u001b[49m\n\u001b[1;32m    705\u001b[0m \u001b[38;5;66;03m# Total elapsed time of the request (approximately)\u001b[39;00m\n\u001b[1;32m    706\u001b[0m elapsed \u001b[38;5;241m=\u001b[39m preferred_clock() \u001b[38;5;241m-\u001b[39m start\n",
      "File \u001b[0;32m~/Documents/Master/IngenieriaCaracteristicas/.venv/lib/python3.12/site-packages/requests/adapters.py:698\u001b[0m, in \u001b[0;36mHTTPAdapter.send\u001b[0;34m(self, request, stream, timeout, verify, cert, proxies)\u001b[0m\n\u001b[1;32m    694\u001b[0m         \u001b[38;5;28;01mraise\u001b[39;00m ProxyError(e, request\u001b[38;5;241m=\u001b[39mrequest)\n\u001b[1;32m    696\u001b[0m     \u001b[38;5;28;01mif\u001b[39;00m \u001b[38;5;28misinstance\u001b[39m(e\u001b[38;5;241m.\u001b[39mreason, _SSLError):\n\u001b[1;32m    697\u001b[0m         \u001b[38;5;66;03m# This branch is for urllib3 v1.22 and later.\u001b[39;00m\n\u001b[0;32m--> 698\u001b[0m         \u001b[38;5;28;01mraise\u001b[39;00m SSLError(e, request\u001b[38;5;241m=\u001b[39mrequest)\n\u001b[1;32m    700\u001b[0m     \u001b[38;5;28;01mraise\u001b[39;00m \u001b[38;5;167;01mConnectionError\u001b[39;00m(e, request\u001b[38;5;241m=\u001b[39mrequest)\n\u001b[1;32m    702\u001b[0m \u001b[38;5;28;01mexcept\u001b[39;00m ClosedPoolError \u001b[38;5;28;01mas\u001b[39;00m e:\n",
      "\u001b[0;31mSSLError\u001b[0m: HTTPSConnectionPool(host='www.planeacion.sep.gob.mx', port=443): Max retries exceeded with url: /Doc/estadistica_e_indicadores/indicadores/reporte_indicadores_educativos_sep_2023.xls (Caused by SSLError(SSLCertVerificationError(1, '[SSL: CERTIFICATE_VERIFY_FAILED] certificate verify failed: unable to get local issuer certificate (_ssl.c:1000)')))"
     ]
    }
   ],
   "source": [
    "# Descargar datos del reporte del SEP\n",
    "for item in sep_2023:\n",
    "    descargar_archivo_xlsx(item[\"url\"], \"REPORTE DE INDICADORES EDUCATIVOS\", item[\"file_name\"])\n"
   ]
  },
  {
   "cell_type": "code",
   "execution_count": 55,
   "metadata": {},
   "outputs": [
    {
     "name": "stdout",
     "output_type": "stream",
     "text": [
      "\u001b[34mDATOS ADOLESCENTES\u001b[m\u001b[m \u001b[34mDATOS ADULTOS\u001b[m\u001b[m      \u001b[34mDATOS EDUCACION\u001b[m\u001b[m\n",
      "/Users/federicocirett/Documents/Master/IngenieriaCaracteristicas/{{ cookiecutter.project_slug }}\n"
     ]
    }
   ],
   "source": [
    "!ls Data/raw"
   ]
  },
  {
   "cell_type": "code",
   "execution_count": 60,
   "metadata": {},
   "outputs": [
    {
     "name": "stdout",
     "output_type": "stream",
     "text": [
      "  % Total    % Received % Xferd  Average Speed   Time    Time     Time  Current\n",
      "                                 Dload  Upload   Total   Spent    Left  Speed\n",
      "100 12.7M  100 12.7M    0     0   895k      0  0:00:14  0:00:14 --:--:-- 1103k\n"
     ]
    }
   ],
   "source": [
    "# Descarga reporte del SEP 2023\n",
    "# Hubo un problema con la descarga normal, entonces se descargaron los datos con el shell\n",
    "!cd \"Data/raw/DATOS EDUCACION\" && mkdir \"REPORTE DE INDICADORES EDUCATIVOS\" && cd \"REPORTE DE INDICADORES EDUCATIVOS\" && curl -O https://www.planeacion.sep.gob.mx/Doc/estadistica_e_indicadores/indicadores/reporte_indicadores_educativos_sep_2023.xls\n"
   ]
  },
  {
   "cell_type": "markdown",
   "metadata": {},
   "source": [
    "# Encuesta Nacional de Ocupación y Empleo"
   ]
  },
  {
   "cell_type": "code",
   "execution_count": null,
   "metadata": {},
   "outputs": [],
   "source": [
    "# Encuestas de ocupación\n",
    "enoe=[\n",
    "      {  'url': 'https://www.inegi.org.mx/contenidos/programas/enoe/15ymas/datosabiertos/2008/conjunto_de_datos_enoe_2008_1t_csv.zip',\n",
    "         'data': 'RU5DVUVTVEEgTkFDSU9OQUwgREUgT0NVUEFDSU9OIFkgRU1QTEVP',\n",
    "         'file_name': 'conjunto_de_datos_enoe_2008_1t_csv.zip '},\n",
    "      \n",
    " {'url': 'https://www.inegi.org.mx/contenidos/programas/enoe/15ymas/datosabiertos/2008/conjunto_de_datos_enoe_2008_2t_csv.zip',\n",
    "  'data': 'RU5DVUVTVEEgTkFDSU9OQUwgREUgT0NVUEFDSU9OIFkgRU1QTEVP',\n",
    "  'file_name': 'conjunto_de_datos_enoe_2008_2t_csv.zip '},\n",
    "      \n",
    " {'url': 'https://www.inegi.org.mx/contenidos/programas/enoe/15ymas/datosabiertos/2008/conjunto_de_datos_enoe_2008_3t_csv.zip',\n",
    "  'data': 'RU5DVUVTVEEgTkFDSU9OQUwgREUgT0NVUEFDSU9OIFkgRU1QTEVP',\n",
    "  'file_name': 'conjunto_de_datos_enoe_2008_3t_csv.zip '},\n",
    "      \n",
    " {'url': 'https://www.inegi.org.mx/contenidos/programas/enoe/15ymas/datosabiertos/2008/conjunto_de_datos_enoe_2008_4t_csv.zip ',\n",
    "  'data': 'RU5DVUVTVEEgTkFDSU9OQUwgREUgT0NVUEFDSU9OIFkgRU1QTEVP',\n",
    "  'file_name': 'conjunto_de_datos_enoe_2008_4t_csv.zip '},\n",
    "      \n",
    " {'url': 'https://www.inegi.org.mx/contenidos/programas/enoe/15ymas/datosabiertos/2009/conjunto_de_datos_enoe_2009_1t_csv.zip ',\n",
    "  'data': 'RU5DVUVTVEEgTkFDSU9OQUwgREUgT0NVUEFDSU9OIFkgRU1QTEVP',\n",
    "  'file_name': 'conjunto_de_datos_enoe_2009_1t_csv.zip '},\n",
    "      \n",
    " {'url': 'https://www.inegi.org.mx/contenidos/programas/enoe/15ymas/datosabiertos/2009/conjunto_de_datos_enoe_2009_2t_csv.zip ',\n",
    "  'data': 'RU5DVUVTVEEgTkFDSU9OQUwgREUgT0NVUEFDSU9OIFkgRU1QTEVP',\n",
    "  'file_name': 'conjunto_de_datos_enoe_2009_2t_csv.zip '},\n",
    "      \n",
    " {'url': 'https://www.inegi.org.mx/contenidos/programas/enoe/15ymas/datosabiertos/2009/conjunto_de_datos_enoe_2009_3t_csv.zip ',\n",
    "  'data': 'RU5DVUVTVEEgTkFDSU9OQUwgREUgT0NVUEFDSU9OIFkgRU1QTEVP',\n",
    "  'file_name': 'conjunto_de_datos_enoe_2009_3t_csv.zip '},\n",
    "      \n",
    " {'url': 'https://www.inegi.org.mx/contenidos/programas/enoe/15ymas/datosabiertos/2009/conjunto_de_datos_enoe_2009_4t_csv.zip ',\n",
    "  'data': 'RU5DVUVTVEEgTkFDSU9OQUwgREUgT0NVUEFDSU9OIFkgRU1QTEVP',\n",
    "  'file_name': 'conjunto_de_datos_enoe_2009_4t_csv.zip '},\n",
    "      \n",
    " {'url': 'https://www.inegi.org.mx/contenidos/programas/enoe/15ymas/datosabiertos/2010/conjunto_de_datos_enoe_2010_1t_csv.zip ',\n",
    "  'data': 'RU5DVUVTVEEgTkFDSU9OQUwgREUgT0NVUEFDSU9OIFkgRU1QTEVP',\n",
    "  'file_name': 'conjunto_de_datos_enoe_2010_1t_csv.zip '},\n",
    "      \n",
    " {'url': 'https://www.inegi.org.mx/contenidos/programas/enoe/15ymas/datosabiertos/2010/conjunto_de_datos_enoe_2010_2t_csv.zip ',\n",
    "  'data': 'RU5DVUVTVEEgTkFDSU9OQUwgREUgT0NVUEFDSU9OIFkgRU1QTEVP',\n",
    "  'file_name': 'conjunto_de_datos_enoe_2010_2t_csv.zip '},\n",
    "      \n",
    " {'url': 'https://www.inegi.org.mx/contenidos/programas/enoe/15ymas/datosabiertos/2010/conjunto_de_datos_enoe_2010_3t_csv.zip ',\n",
    "  'data': 'RU5DVUVTVEEgTkFDSU9OQUwgREUgT0NVUEFDSU9OIFkgRU1QTEVP',\n",
    "  'file_name': 'conjunto_de_datos_enoe_2010_3t_csv.zip '},\n",
    "      \n",
    " {'url': 'https://www.inegi.org.mx/contenidos/programas/enoe/15ymas/datosabiertos/2010/conjunto_de_datos_enoe_2010_4t_csv.zip ',\n",
    "  'data': 'RU5DVUVTVEEgTkFDSU9OQUwgREUgT0NVUEFDSU9OIFkgRU1QTEVP',\n",
    "  'file_name': 'conjunto_de_datos_enoe_2010_4t_csv.zip '},\n",
    "      \n",
    " {'url': 'https://www.inegi.org.mx/contenidos/programas/enoe/15ymas/datosabiertos/2011/conjunto_de_datos_enoe_2011_1t_csv.zip ',\n",
    "  'data': 'RU5DVUVTVEEgTkFDSU9OQUwgREUgT0NVUEFDSU9OIFkgRU1QTEVP',\n",
    "  'file_name': 'conjunto_de_datos_enoe_2011_1t_csv.zip '},\n",
    "      \n",
    " {'url': 'https://www.inegi.org.mx/contenidos/programas/enoe/15ymas/datosabiertos/2011/conjunto_de_datos_enoe_2011_2t_csv.zip  ',\n",
    "  'data': 'RU5DVUVTVEEgTkFDSU9OQUwgREUgT0NVUEFDSU9OIFkgRU1QTEVP',\n",
    "  'file_name': 'conjunto_de_datos_enoe_2011_2t_csv.zip  '},\n",
    "      \n",
    " {'url': 'https://www.inegi.org.mx/contenidos/programas/enoe/15ymas/datosabiertos/2011/conjunto_de_datos_enoe_2011_3t_csv.zip ',\n",
    "  'data': 'RU5DVUVTVEEgTkFDSU9OQUwgREUgT0NVUEFDSU9OIFkgRU1QTEVP',\n",
    "  'file_name': 'conjunto_de_datos_enoe_2011_3t_csv.zip '},\n",
    "      \n",
    " {'url': 'https://www.inegi.org.mx/contenidos/programas/enoe/15ymas/datosabiertos/2011/conjunto_de_datos_enoe_2011_4t_csv.zip ',\n",
    "  'data': 'RU5DVUVTVEEgTkFDSU9OQUwgREUgT0NVUEFDSU9OIFkgRU1QTEVP',\n",
    "  'file_name': 'conjunto_de_datos_enoe_2011_4t_csv.zip '},\n",
    "      \n",
    " {'url': 'https://www.inegi.org.mx/contenidos/programas/enoe/15ymas/datosabiertos/2012/conjunto_de_datos_enoe_2012_1t_csv.zip ',\n",
    "  'data': 'RU5DVUVTVEEgTkFDSU9OQUwgREUgT0NVUEFDSU9OIFkgRU1QTEVP',\n",
    "  'file_name': 'conjunto_de_datos_enoe_2012_1t_csv.zip '},\n",
    "      \n",
    " {'url': 'https://www.inegi.org.mx/contenidos/programas/enoe/15ymas/datosabiertos/2012/conjunto_de_datos_enoe_2012_2t_csv.zip ',\n",
    "  'data': 'RU5DVUVTVEEgTkFDSU9OQUwgREUgT0NVUEFDSU9OIFkgRU1QTEVP',\n",
    "  'file_name': 'conjunto_de_datos_enoe_2012_2t_csv.zip '},\n",
    "      \n",
    " {'url': 'https://www.inegi.org.mx/contenidos/programas/enoe/15ymas/datosabiertos/2012/conjunto_de_datos_enoe_2012_3t_csv.zip ',\n",
    "  'data': 'RU5DVUVTVEEgTkFDSU9OQUwgREUgT0NVUEFDSU9OIFkgRU1QTEVP',\n",
    "  'file_name': 'conjunto_de_datos_enoe_2012_3t_csv.zip '},\n",
    "      \n",
    " {'url': 'https://www.inegi.org.mx/contenidos/programas/enoe/15ymas/datosabiertos/2012/conjunto_de_datos_enoe_2012_4t_csv.zip ',\n",
    "  'data': 'RU5DVUVTVEEgTkFDSU9OQUwgREUgT0NVUEFDSU9OIFkgRU1QTEVP',\n",
    "  'file_name': 'conjunto_de_datos_enoe_2012_4t_csv.zip '},\n",
    "      \n",
    " {'url': 'https://www.inegi.org.mx/contenidos/programas/enoe/15ymas/datosabiertos/2013/conjunto_de_datos_enoe_2013_1t_csv.zip ',\n",
    "  'data': 'RU5DVUVTVEEgTkFDSU9OQUwgREUgT0NVUEFDSU9OIFkgRU1QTEVP',\n",
    "  'file_name': 'conjunto_de_datos_enoe_2013_1t_csv.zip '},\n",
    "      \n",
    " {'url': 'https://www.inegi.org.mx/contenidos/programas/enoe/15ymas/datosabiertos/2013/conjunto_de_datos_enoe_2013_2t_csv.zip ',\n",
    "  'data': 'RU5DVUVTVEEgTkFDSU9OQUwgREUgT0NVUEFDSU9OIFkgRU1QTEVP',\n",
    "  'file_name': 'conjunto_de_datos_enoe_2013_2t_csv.zip '},\n",
    "      \n",
    " {'url': 'https://www.inegi.org.mx/contenidos/programas/enoe/15ymas/datosabiertos/2013/conjunto_de_datos_enoe_2013_3t_csv.zip ',\n",
    "  'data': 'RU5DVUVTVEEgTkFDSU9OQUwgREUgT0NVUEFDSU9OIFkgRU1QTEVP',\n",
    "  'file_name': 'conjunto_de_datos_enoe_2013_3t_csv.zip '},\n",
    "      \n",
    " {'url': 'https://www.inegi.org.mx/contenidos/programas/enoe/15ymas/datosabiertos/2013/conjunto_de_datos_enoe_2013_4t_csv.zip ',\n",
    "  'data': 'RU5DVUVTVEEgTkFDSU9OQUwgREUgT0NVUEFDSU9OIFkgRU1QTEVP',\n",
    "  'file_name': 'conjunto_de_datos_enoe_2013_4t_csv.zip '},\n",
    "      \n",
    " {'url': 'https://www.inegi.org.mx/contenidos/programas/enoe/15ymas/datosabiertos/2014/conjunto_de_datos_enoe_2014_1t_csv.zip ',\n",
    "  'data': 'RU5DVUVTVEEgTkFDSU9OQUwgREUgT0NVUEFDSU9OIFkgRU1QTEVP',\n",
    "  'file_name': 'conjunto_de_datos_enoe_2014_1t_csv.zip '},\n",
    "      \n",
    " {'url': 'https://www.inegi.org.mx/contenidos/programas/enoe/15ymas/datosabiertos/2014/conjunto_de_datos_enoe_2014_2t_csv.zip ',\n",
    "  'data': 'RU5DVUVTVEEgTkFDSU9OQUwgREUgT0NVUEFDSU9OIFkgRU1QTEVP',\n",
    "  'file_name': 'conjunto_de_datos_enoe_2014_2t_csv.zip '},\n",
    "      \n",
    " {'url': 'https://www.inegi.org.mx/contenidos/programas/enoe/15ymas/datosabiertos/2014/conjunto_de_datos_enoe_2014_3t_csv.zip ',\n",
    "  'data': 'RU5DVUVTVEEgTkFDSU9OQUwgREUgT0NVUEFDSU9OIFkgRU1QTEVP',\n",
    "  'file_name': 'conjunto_de_datos_enoe_2014_3t_csv.zip '},\n",
    "      \n",
    " {'url': 'https://www.inegi.org.mx/contenidos/programas/enoe/15ymas/datosabiertos/2014/conjunto_de_datos_enoe_2014_4t_csv.zip ',\n",
    "  'data': 'RU5DVUVTVEEgTkFDSU9OQUwgREUgT0NVUEFDSU9OIFkgRU1QTEVP',\n",
    "  'file_name': 'conjunto_de_datos_enoe_2014_4t_csv.zip '},\n",
    "      \n",
    " {'url': 'https://www.inegi.org.mx/contenidos/programas/enoe/15ymas/datosabiertos/2015/conjunto_de_datos_enoe_2015_1t_csv.zip ',\n",
    "  'data': 'RU5DVUVTVEEgTkFDSU9OQUwgREUgT0NVUEFDSU9OIFkgRU1QTEVP',\n",
    "  'file_name': 'conjunto_de_datos_enoe_2015_1t_csv.zip '},\n",
    "      \n",
    " {'url': 'https://www.inegi.org.mx/contenidos/programas/enoe/15ymas/datosabiertos/2015/conjunto_de_datos_enoe_2015_2t_csv.zip ',\n",
    "  'data': 'RU5DVUVTVEEgTkFDSU9OQUwgREUgT0NVUEFDSU9OIFkgRU1QTEVP',\n",
    "  'file_name': 'conjunto_de_datos_enoe_2015_2t_csv.zip '},\n",
    "      \n",
    " {'url': 'https://www.inegi.org.mx/contenidos/programas/enoe/15ymas/datosabiertos/2015/conjunto_de_datos_enoe_2015_3t_csv.zip ',\n",
    "  'data': 'RU5DVUVTVEEgTkFDSU9OQUwgREUgT0NVUEFDSU9OIFkgRU1QTEVP',\n",
    "  'file_name': 'conjunto_de_datos_enoe_2015_3t_csv.zip '},\n",
    "      \n",
    " {'url': 'https://www.inegi.org.mx/contenidos/programas/enoe/15ymas/datosabiertos/2015/conjunto_de_datos_enoe_2015_4t_csv.zip ',\n",
    "  'data': 'RU5DVUVTVEEgTkFDSU9OQUwgREUgT0NVUEFDSU9OIFkgRU1QTEVP',\n",
    "  'file_name': 'conjunto_de_datos_enoe_2015_4t_csv.zip '},\n",
    "      \n",
    " {'url': 'https://www.inegi.org.mx/contenidos/programas/enoe/15ymas/datosabiertos/2016/conjunto_de_datos_enoe_2016_1t_csv.zip ',\n",
    "  'data': 'RU5DVUVTVEEgTkFDSU9OQUwgREUgT0NVUEFDSU9OIFkgRU1QTEVP',\n",
    "  'file_name': 'conjunto_de_datos_enoe_2016_1t_csv.zip '},\n",
    "      \n",
    " {'url': 'https://www.inegi.org.mx/contenidos/programas/enoe/15ymas/datosabiertos/2016/conjunto_de_datos_enoe_2016_2t_csv.zip ',\n",
    "  'data': 'RU5DVUVTVEEgTkFDSU9OQUwgREUgT0NVUEFDSU9OIFkgRU1QTEVP',\n",
    "  'file_name': 'conjunto_de_datos_enoe_2016_2t_csv.zip '},\n",
    "      \n",
    " {'url': 'https://www.inegi.org.mx/contenidos/programas/enoe/15ymas/datosabiertos/2016/conjunto_de_datos_enoe_2016_3t_csv.zip ',\n",
    "  'data': 'RU5DVUVTVEEgTkFDSU9OQUwgREUgT0NVUEFDSU9OIFkgRU1QTEVP',\n",
    "  'file_name': 'conjunto_de_datos_enoe_2016_3t_csv.zip '},\n",
    "      \n",
    " {'url': 'https://www.inegi.org.mx/contenidos/programas/enoe/15ymas/datosabiertos/2016/conjunto_de_datos_enoe_2016_4t_csv.zip ',\n",
    "  'data': 'RU5DVUVTVEEgTkFDSU9OQUwgREUgT0NVUEFDSU9OIFkgRU1QTEVP',\n",
    "  'file_name': 'conjunto_de_datos_enoe_2016_4t_csv.zip '},\n",
    "      \n",
    " {'url': 'https://www.inegi.org.mx/contenidos/programas/enoe/15ymas/datosabiertos/2017/2017_trim1_enoe_csv.zip ',\n",
    "  'data': 'RU5DVUVTVEEgTkFDSU9OQUwgREUgT0NVUEFDSU9OIFkgRU1QTEVP',\n",
    "  'file_name': '2017_trim1_enoe_csv.zip '},\n",
    "      \n",
    " {'url': 'https://www.inegi.org.mx/contenidos/programas/enoe/15ymas/datosabiertos/2017/2017_trim2_enoe_csv.zip ',\n",
    "  'data': 'RU5DVUVTVEEgTkFDSU9OQUwgREUgT0NVUEFDSU9OIFkgRU1QTEVP',\n",
    "  'file_name': '2017_trim2_enoe_csv.zip '},\n",
    "      \n",
    " {'url': 'https://www.inegi.org.mx/contenidos/programas/enoe/15ymas/datosabiertos/2017/2017_trim3_enoe_csv.zip ',\n",
    "  'data': 'RU5DVUVTVEEgTkFDSU9OQUwgREUgT0NVUEFDSU9OIFkgRU1QTEVP',\n",
    "  'file_name': '2017_trim3_enoe_csv.zip '},\n",
    "      \n",
    " {'url': 'https://www.inegi.org.mx/contenidos/programas/enoe/15ymas/datosabiertos/2017/2017_trim4_enoe_csv.zip ',\n",
    "  'data': 'RU5DVUVTVEEgTkFDSU9OQUwgREUgT0NVUEFDSU9OIFkgRU1QTEVP',\n",
    "  'file_name': '2017_trim4_enoe_csv.zip '},\n",
    "      \n",
    " {'url': 'https://www.inegi.org.mx/contenidos/programas/enoe/15ymas/datosabiertos/2018/2018_trim1_enoe_csv.zip ',\n",
    "  'data': 'RU5DVUVTVEEgTkFDSU9OQUwgREUgT0NVUEFDSU9OIFkgRU1QTEVP',\n",
    "  'file_name': '2018_trim1_enoe_csv.zip '},\n",
    "      \n",
    " {'url': 'https://www.inegi.org.mx/contenidos/programas/enoe/15ymas/datosabiertos/2018/2018_trim2_enoe_csv.zip ',\n",
    "  'data': 'RU5DVUVTVEEgTkFDSU9OQUwgREUgT0NVUEFDSU9OIFkgRU1QTEVP',\n",
    "  'file_name': '2018_trim2_enoe_csv.zip '},\n",
    "      \n",
    " {'url': 'https://www.inegi.org.mx/contenidos/programas/enoe/15ymas/datosabiertos/2018/2018_trim3_enoe_csv.zip ',\n",
    "  'data': 'RU5DVUVTVEEgTkFDSU9OQUwgREUgT0NVUEFDSU9OIFkgRU1QTEVP',\n",
    "  'file_name': '2018_trim3_enoe_csv.zip '},\n",
    "      \n",
    " {'url': 'https://www.inegi.org.mx/contenidos/programas/enoe/15ymas/datosabiertos/2018/2018_trim4_enoe_csv.zip ',\n",
    "  'data': 'RU5DVUVTVEEgTkFDSU9OQUwgREUgT0NVUEFDSU9OIFkgRU1QTEVP',\n",
    "  'file_name': '2018_trim4_enoe_csv.zip '},\n",
    "      \n",
    " {'url': 'https://www.inegi.org.mx/contenidos/programas/enoe/15ymas/datosabiertos/2019/conjunto_de_datos_enoe_2019_1t_csv.zip ',\n",
    "  'data': 'RU5DVUVTVEEgTkFDSU9OQUwgREUgT0NVUEFDSU9OIFkgRU1QTEVP',\n",
    "  'file_name': 'conjunto_de_datos_enoe_2019_1t_csv.zip '},\n",
    "      \n",
    " {'url': 'https://www.inegi.org.mx/contenidos/programas/enoe/15ymas/datosabiertos/2019/conjunto_de_datos_enoe_2019_2t_csv.zip ',\n",
    "  'data': 'RU5DVUVTVEEgTkFDSU9OQUwgREUgT0NVUEFDSU9OIFkgRU1QTEVP',\n",
    "  'file_name': 'conjunto_de_datos_enoe_2019_2t_csv.zip '},\n",
    " \n",
    " {'url': 'https://www.inegi.org.mx/contenidos/programas/enoe/15ymas/datosabiertos/2019/conjunto_de_datos_enoe_2019_3t_csv.zip ',\n",
    "  'data': 'RU5DVUVTVEEgTkFDSU9OQUwgREUgT0NVUEFDSU9OIFkgRU1QTEVP',\n",
    "  'file_name': 'conjunto_de_datos_enoe_2019_3t_csv.zip '},\n",
    " \n",
    " {'url': 'https://www.inegi.org.mx/contenidos/programas/enoe/15ymas/datosabiertos/2019/conjunto_de_datos_enoe_2019_4t_csv.zip ',\n",
    "  'data': 'RU5DVUVTVEEgTkFDSU9OQUwgREUgT0NVUEFDSU9OIFkgRU1QTEVP',\n",
    "  'file_name': 'conjunto_de_datos_enoe_2019_4t_csv.zip '},\n",
    " \n",
    " {'url': 'https://www.inegi.org.mx/contenidos/programas/enoe/15ymas/datosabiertos/2020/conjunto_de_datos_enoe_2020_1t_csv.zip ',\n",
    "  'data': 'RU5DVUVTVEEgTkFDSU9OQUwgREUgT0NVUEFDSU9OIFkgRU1QTEVP',\n",
    "  'file_name': 'conjunto_de_datos_enoe_2020_1t_csv.zip '},\n",
    " \n",
    " {'url': 'https://www.inegi.org.mx/contenidos/programas/enoe/15ymas/datosabiertos/2020/conjunto_de_datos_enoe_2020_3t_csv.zip ',\n",
    "  'data': 'RU5DVUVTVEEgTkFDSU9OQUwgREUgT0NVUEFDSU9OIFkgRU1QTEVP',\n",
    "  'file_name': 'conjunto_de_datos_enoe_2020_3t_csv.zip '},\n",
    " \n",
    " {'url': 'https://www.inegi.org.mx/contenidos/programas/enoe/15ymas/datosabiertos/2020/conjunto_de_datos_enoe_2020_4t_csv.zip ',\n",
    "  'data': 'RU5DVUVTVEEgTkFDSU9OQUwgREUgT0NVUEFDSU9OIFkgRU1QTEVP',\n",
    "  'file_name': 'conjunto_de_datos_enoe_2020_4t_csv.zip '},\n",
    " \n",
    " {'url': 'https://www.inegi.org.mx/contenidos/programas/enoe/15ymas/datosabiertos/2021/conjunto_de_datos_enoen_2021_1t_csv.zip ',\n",
    "  'data': 'RU5DVUVTVEEgTkFDSU9OQUwgREUgT0NVUEFDSU9OIFkgRU1QTEVP',\n",
    "  'file_name': 'conjunto_de_datos_enoen_2021_1t_csv.zip '},\n",
    " \n",
    " {'url': 'https://www.inegi.org.mx/contenidos/programas/enoe/15ymas/datosabiertos/2021/conjunto_de_datos_enoen_2021_2t_csv.zip ',\n",
    "  'data': 'RU5DVUVTVEEgTkFDSU9OQUwgREUgT0NVUEFDSU9OIFkgRU1QTEVP',\n",
    "  'file_name': 'conjunto_de_datos_enoen_2021_2t_csv.zip '},\n",
    " \n",
    " {'url': 'https://www.inegi.org.mx/contenidos/programas/enoe/15ymas/datosabiertos/2021/conjunto_de_datos_enoen_2021_3t_csv.zip ',\n",
    "  'data': 'RU5DVUVTVEEgTkFDSU9OQUwgREUgT0NVUEFDSU9OIFkgRU1QTEVP',\n",
    "  'file_name': 'conjunto_de_datos_enoen_2021_3t_csv.zip '},\n",
    " \n",
    " {'url': 'https://www.inegi.org.mx/contenidos/programas/enoe/15ymas/datosabiertos/2021/conjunto_de_datos_enoen_2021_4t_csv.zip ',\n",
    "  'data': 'RU5DVUVTVEEgTkFDSU9OQUwgREUgT0NVUEFDSU9OIFkgRU1QTEVP',\n",
    "  'file_name': 'conjunto_de_datos_enoen_2021_4t_csv.zip '},\n",
    " \n",
    " {'url': 'https://www.inegi.org.mx/contenidos/programas/enoe/15ymas/datosabiertos/2022/conjunto_de_datos_enoen_2022_1t_csv.zip ',\n",
    "  'data': 'RU5DVUVTVEEgTkFDSU9OQUwgREUgT0NVUEFDSU9OIFkgRU1QTEVP',\n",
    "  'file_name': 'conjunto_de_datos_enoen_2022_1t_csv.zip '},\n",
    " \n",
    " {'url': 'https://www.inegi.org.mx/contenidos/programas/enoe/15ymas/datosabiertos/2022/conjunto_de_datos_enoen_2022_2t_csv.zip ',\n",
    "  'data': 'RU5DVUVTVEEgTkFDSU9OQUwgREUgT0NVUEFDSU9OIFkgRU1QTEVP',\n",
    "  'file_name': 'conjunto_de_datos_enoen_2022_2t_csv.zip '},\n",
    " \n",
    " {'url': 'https://www.inegi.org.mx/contenidos/programas/enoe/15ymas/datosabiertos/2022/conjunto_de_datos_enoen_2022_3t_csv.zip ',\n",
    "  'data': 'RU5DVUVTVEEgTkFDSU9OQUwgREUgT0NVUEFDSU9OIFkgRU1QTEVP',\n",
    "  'file_name': 'conjunto_de_datos_enoen_2022_3t_csv.zip '},\n",
    " \n",
    " {'url': 'https://www.inegi.org.mx/contenidos/programas/enoe/15ymas/datosabiertos/2022/conjunto_de_datos_enoen_2022_4t_csv.zip ',\n",
    "  'data': 'RU5DVUVTVEEgTkFDSU9OQUwgREUgT0NVUEFDSU9OIFkgRU1QTEVP',\n",
    "  'file_name': 'conjunto_de_datos_enoen_2022_4t_csv.zip '},\n",
    " \n",
    " {'url': 'https://www.inegi.org.mx/contenidos/programas/enoe/15ymas/datosabiertos/2023/conjunto_de_datos_enoe_2023_1t_csv.zip ',\n",
    "  'data': 'RU5DVUVTVEEgTkFDSU9OQUwgREUgT0NVUEFDSU9OIFkgRU1QTEVP',\n",
    "  'file_name': 'conjunto_de_datos_enoe_2023_1t_csv.zip '},\n",
    " \n",
    " {'url': 'https://www.inegi.org.mx/contenidos/programas/enoe/15ymas/datosabiertos/2023/conjunto_de_datos_enoe_2023_2t_csv.zip ',\n",
    "  'data': 'RU5DVUVTVEEgTkFDSU9OQUwgREUgT0NVUEFDSU9OIFkgRU1QTEVP',\n",
    "  'file_name': 'conjunto_de_datos_enoe_2023_2t_csv.zip '},\n",
    " \n",
    " {'url': 'https://www.inegi.org.mx/contenidos/programas/enoe/15ymas/datosabiertos/2023/conjunto_de_datos_enoe_2023_3t_csv.zip ',\n",
    "  'data': 'RU5DVUVTVEEgTkFDSU9OQUwgREUgT0NVUEFDSU9OIFkgRU1QTEVP',\n",
    "  'file_name': 'conjunto_de_datos_enoe_2023_3t_csv.zip '},\n",
    " \n",
    " {'url': 'https://www.inegi.org.mx/contenidos/programas/enoe/15ymas/datosabiertos/2023/conjunto_de_datos_enoe_2023_4t_csv.zip ',\n",
    "  'data': 'RU5DVUVTVEEgTkFDSU9OQUwgREUgT0NVUEFDSU9OIFkgRU1QTEVP',\n",
    "  'file_name': 'conjunto_de_datos_enoe_2023_4t_csv.zip '},\n",
    " \n",
    " {'url': 'https://www.inegi.org.mx/contenidos/programas/enoe/15ymas/datosabiertos/2024/conjunto_de_datos_enoe_2024_1t_csv.zip ',\n",
    "  'data': 'RU5DVUVTVEEgTkFDSU9OQUwgREUgT0NVUEFDSU9OIFkgRU1QTEVP',\n",
    "  'file_name': 'conjunto_de_datos_enoe_2024_1t_csv.zip '},\n",
    " \n",
    " {'url': 'https://www.inegi.org.mx/contenidos/programas/enoe/15ymas/datosabiertos/2024/conjunto_de_datos_enoe_2024_2t_csv.zip',\n",
    "  'data': 'RU5DVUVTVEEgTkFDSU9OQUwgREUgT0NVUEFDSU9OIFkgRU1QTEVP',\n",
    "  'file_name': 'conjunto_de_datos_enoe_2024_2t_csv.zip'}\n",
    "]"
   ]
  },
  {
   "cell_type": "code",
   "execution_count": null,
   "metadata": {},
   "outputs": [],
   "source": [
    "def descargar_archivo_zip(url,file_name,folder=\"\"):\n",
    "    \"\"\" \n",
    "    url: URL de descarga\n",
    "    folder: El nombre de la carpeta en donde se guardaran los datos descargados\n",
    "    file_name: Nombre del archivo extraído\n",
    "    \"\"\"\n",
    "    # Creamos el directorio de extracción en caso de no existir\n",
    "    \n",
    "    extract_to=f\"{data_path}/{folder}/{file_name}\"\n",
    "\n",
    "    os.makedirs(extract_to, exist_ok=True)\n",
    "\n",
    "    # Descargamos el archivo zip\n",
    "    response = requests.get(url,allow_redirects=True)\n",
    "    if response.status_code == 200:\n",
    "        # Abrimos y extraemos el contenido\n",
    "        with zipfile.ZipFile(BytesIO(response.content)) as z:\n",
    "            z.extractall(extract_to)\n",
    "            print(f'El contenido de {url} se extrajo a {extract_to}')\n",
    "    else:\n",
    "        print(f'Error al descargar {url}, status code: {response.status_code}')\n"
   ]
  },
  {
   "cell_type": "code",
   "execution_count": null,
   "metadata": {},
   "outputs": [
    {
     "ename": "BadZipFile",
     "evalue": "File is not a zip file",
     "output_type": "error",
     "traceback": [
      "\u001b[0;31m---------------------------------------------------------------------------\u001b[0m",
      "\u001b[0;31mBadZipFile\u001b[0m                                Traceback (most recent call last)",
      "Cell \u001b[0;32mIn[39], line 1\u001b[0m\n\u001b[0;32m----> 1\u001b[0m \u001b[43mdescargar_archivo_zip\u001b[49m\u001b[43m(\u001b[49m\u001b[43menoe\u001b[49m\u001b[43m[\u001b[49m\u001b[38;5;241;43m0\u001b[39;49m\u001b[43m]\u001b[49m\u001b[43m[\u001b[49m\u001b[38;5;124;43m'\u001b[39;49m\u001b[38;5;124;43murl\u001b[39;49m\u001b[38;5;124;43m'\u001b[39;49m\u001b[43m]\u001b[49m\u001b[43m,\u001b[49m\u001b[43menoe\u001b[49m\u001b[43m[\u001b[49m\u001b[38;5;241;43m0\u001b[39;49m\u001b[43m]\u001b[49m\u001b[43m[\u001b[49m\u001b[38;5;124;43m'\u001b[39;49m\u001b[38;5;124;43mfile_name\u001b[39;49m\u001b[38;5;124;43m'\u001b[39;49m\u001b[43m]\u001b[49m\u001b[43m,\u001b[49m\u001b[38;5;124;43m\"\u001b[39;49m\u001b[38;5;124;43mENCUESTA NACIONAL DE OCUPACION Y EMPLEO\u001b[39;49m\u001b[38;5;124;43m\"\u001b[39;49m\u001b[43m)\u001b[49m\n",
      "Cell \u001b[0;32mIn[38], line 17\u001b[0m, in \u001b[0;36mdescargar_archivo_zip\u001b[0;34m(url, file_name, folder)\u001b[0m\n\u001b[1;32m     14\u001b[0m response \u001b[38;5;241m=\u001b[39m requests\u001b[38;5;241m.\u001b[39mget(url,allow_redirects\u001b[38;5;241m=\u001b[39m\u001b[38;5;28;01mTrue\u001b[39;00m)\n\u001b[1;32m     15\u001b[0m \u001b[38;5;28;01mif\u001b[39;00m response\u001b[38;5;241m.\u001b[39mstatus_code \u001b[38;5;241m==\u001b[39m \u001b[38;5;241m200\u001b[39m:\n\u001b[1;32m     16\u001b[0m     \u001b[38;5;66;03m# Abrimos y extraemos el contenido\u001b[39;00m\n\u001b[0;32m---> 17\u001b[0m     \u001b[38;5;28;01mwith\u001b[39;00m \u001b[43mzipfile\u001b[49m\u001b[38;5;241;43m.\u001b[39;49m\u001b[43mZipFile\u001b[49m\u001b[43m(\u001b[49m\u001b[43mBytesIO\u001b[49m\u001b[43m(\u001b[49m\u001b[43mresponse\u001b[49m\u001b[38;5;241;43m.\u001b[39;49m\u001b[43mcontent\u001b[49m\u001b[43m)\u001b[49m\u001b[43m)\u001b[49m \u001b[38;5;28;01mas\u001b[39;00m z:\n\u001b[1;32m     18\u001b[0m         z\u001b[38;5;241m.\u001b[39mextractall(extract_to)\n\u001b[1;32m     19\u001b[0m         \u001b[38;5;28mprint\u001b[39m(\u001b[38;5;124mf\u001b[39m\u001b[38;5;124m'\u001b[39m\u001b[38;5;124mEl contenido de \u001b[39m\u001b[38;5;132;01m{\u001b[39;00murl\u001b[38;5;132;01m}\u001b[39;00m\u001b[38;5;124m se extrajo a \u001b[39m\u001b[38;5;132;01m{\u001b[39;00mextract_to\u001b[38;5;132;01m}\u001b[39;00m\u001b[38;5;124m'\u001b[39m)\n",
      "File \u001b[0;32m/opt/homebrew/Cellar/python@3.12/3.12.5/Frameworks/Python.framework/Versions/3.12/lib/python3.12/zipfile/__init__.py:1349\u001b[0m, in \u001b[0;36mZipFile.__init__\u001b[0;34m(self, file, mode, compression, allowZip64, compresslevel, strict_timestamps, metadata_encoding)\u001b[0m\n\u001b[1;32m   1347\u001b[0m \u001b[38;5;28;01mtry\u001b[39;00m:\n\u001b[1;32m   1348\u001b[0m     \u001b[38;5;28;01mif\u001b[39;00m mode \u001b[38;5;241m==\u001b[39m \u001b[38;5;124m'\u001b[39m\u001b[38;5;124mr\u001b[39m\u001b[38;5;124m'\u001b[39m:\n\u001b[0;32m-> 1349\u001b[0m         \u001b[38;5;28;43mself\u001b[39;49m\u001b[38;5;241;43m.\u001b[39;49m\u001b[43m_RealGetContents\u001b[49m\u001b[43m(\u001b[49m\u001b[43m)\u001b[49m\n\u001b[1;32m   1350\u001b[0m     \u001b[38;5;28;01melif\u001b[39;00m mode \u001b[38;5;129;01min\u001b[39;00m (\u001b[38;5;124m'\u001b[39m\u001b[38;5;124mw\u001b[39m\u001b[38;5;124m'\u001b[39m, \u001b[38;5;124m'\u001b[39m\u001b[38;5;124mx\u001b[39m\u001b[38;5;124m'\u001b[39m):\n\u001b[1;32m   1351\u001b[0m         \u001b[38;5;66;03m# set the modified flag so central directory gets written\u001b[39;00m\n\u001b[1;32m   1352\u001b[0m         \u001b[38;5;66;03m# even if no files are added to the archive\u001b[39;00m\n\u001b[1;32m   1353\u001b[0m         \u001b[38;5;28mself\u001b[39m\u001b[38;5;241m.\u001b[39m_didModify \u001b[38;5;241m=\u001b[39m \u001b[38;5;28;01mTrue\u001b[39;00m\n",
      "File \u001b[0;32m/opt/homebrew/Cellar/python@3.12/3.12.5/Frameworks/Python.framework/Versions/3.12/lib/python3.12/zipfile/__init__.py:1416\u001b[0m, in \u001b[0;36mZipFile._RealGetContents\u001b[0;34m(self)\u001b[0m\n\u001b[1;32m   1414\u001b[0m     \u001b[38;5;28;01mraise\u001b[39;00m BadZipFile(\u001b[38;5;124m\"\u001b[39m\u001b[38;5;124mFile is not a zip file\u001b[39m\u001b[38;5;124m\"\u001b[39m)\n\u001b[1;32m   1415\u001b[0m \u001b[38;5;28;01mif\u001b[39;00m \u001b[38;5;129;01mnot\u001b[39;00m endrec:\n\u001b[0;32m-> 1416\u001b[0m     \u001b[38;5;28;01mraise\u001b[39;00m BadZipFile(\u001b[38;5;124m\"\u001b[39m\u001b[38;5;124mFile is not a zip file\u001b[39m\u001b[38;5;124m\"\u001b[39m)\n\u001b[1;32m   1417\u001b[0m \u001b[38;5;28;01mif\u001b[39;00m \u001b[38;5;28mself\u001b[39m\u001b[38;5;241m.\u001b[39mdebug \u001b[38;5;241m>\u001b[39m \u001b[38;5;241m1\u001b[39m:\n\u001b[1;32m   1418\u001b[0m     \u001b[38;5;28mprint\u001b[39m(endrec)\n",
      "\u001b[0;31mBadZipFile\u001b[0m: File is not a zip file"
     ]
    }
   ],
   "source": [
    "descargar_archivo_zip(enoe[0]['url'],enoe[0]['file_name'],\"ENCUESTA NACIONAL DE OCUPACION Y EMPLEO\")"
   ]
  },
  {
   "cell_type": "code",
   "execution_count": null,
   "metadata": {},
   "outputs": [
    {
     "ename": "BadZipFile",
     "evalue": "File is not a zip file",
     "output_type": "error",
     "traceback": [
      "\u001b[0;31m---------------------------------------------------------------------------\u001b[0m",
      "\u001b[0;31mBadZipFile\u001b[0m                                Traceback (most recent call last)",
      "Cell \u001b[0;32mIn[31], line 3\u001b[0m\n\u001b[1;32m      1\u001b[0m \u001b[38;5;66;03m# Descarga de los datos de los ENOE\u001b[39;00m\n\u001b[1;32m      2\u001b[0m \u001b[38;5;28;01mfor\u001b[39;00m item \u001b[38;5;129;01min\u001b[39;00m enoe:\n\u001b[0;32m----> 3\u001b[0m     \u001b[43mdescargar_archivo_zip\u001b[49m\u001b[43m(\u001b[49m\u001b[43mitem\u001b[49m\u001b[43m[\u001b[49m\u001b[38;5;124;43m\"\u001b[39;49m\u001b[38;5;124;43murl\u001b[39;49m\u001b[38;5;124;43m\"\u001b[39;49m\u001b[43m]\u001b[49m\u001b[43m,\u001b[49m\u001b[43mitem\u001b[49m\u001b[43m[\u001b[49m\u001b[38;5;124;43m'\u001b[39;49m\u001b[38;5;124;43mfile_name\u001b[39;49m\u001b[38;5;124;43m'\u001b[39;49m\u001b[43m]\u001b[49m\u001b[43m,\u001b[49m\u001b[43m \u001b[49m\u001b[38;5;124;43m\"\u001b[39;49m\u001b[38;5;124;43mENCUESTA NACIONAL DE OCUPACION Y EMPLEO\u001b[39;49m\u001b[38;5;124;43m\"\u001b[39;49m\u001b[43m)\u001b[49m\n",
      "Cell \u001b[0;32mIn[18], line 34\u001b[0m, in \u001b[0;36mdescargar_archivo_zip\u001b[0;34m(url, file_name, folder)\u001b[0m\n\u001b[1;32m     31\u001b[0m response \u001b[38;5;241m=\u001b[39m requests\u001b[38;5;241m.\u001b[39mget(url)\n\u001b[1;32m     32\u001b[0m \u001b[38;5;28;01mif\u001b[39;00m response\u001b[38;5;241m.\u001b[39mstatus_code \u001b[38;5;241m==\u001b[39m \u001b[38;5;241m200\u001b[39m:\n\u001b[1;32m     33\u001b[0m     \u001b[38;5;66;03m# Abrimos y extraemos el contenido\u001b[39;00m\n\u001b[0;32m---> 34\u001b[0m     \u001b[38;5;28;01mwith\u001b[39;00m \u001b[43mzipfile\u001b[49m\u001b[38;5;241;43m.\u001b[39;49m\u001b[43mZipFile\u001b[49m\u001b[43m(\u001b[49m\u001b[43mBytesIO\u001b[49m\u001b[43m(\u001b[49m\u001b[43mresponse\u001b[49m\u001b[38;5;241;43m.\u001b[39;49m\u001b[43mcontent\u001b[49m\u001b[43m)\u001b[49m\u001b[43m)\u001b[49m \u001b[38;5;28;01mas\u001b[39;00m z:\n\u001b[1;32m     35\u001b[0m         z\u001b[38;5;241m.\u001b[39mextractall(extract_to)\n\u001b[1;32m     36\u001b[0m         \u001b[38;5;28mprint\u001b[39m(\u001b[38;5;124mf\u001b[39m\u001b[38;5;124m'\u001b[39m\u001b[38;5;124mEl contenido de \u001b[39m\u001b[38;5;132;01m{\u001b[39;00murl\u001b[38;5;132;01m}\u001b[39;00m\u001b[38;5;124m se extrajo a \u001b[39m\u001b[38;5;132;01m{\u001b[39;00mextract_to\u001b[38;5;132;01m}\u001b[39;00m\u001b[38;5;124m'\u001b[39m)\n",
      "File \u001b[0;32m/opt/homebrew/Cellar/python@3.12/3.12.5/Frameworks/Python.framework/Versions/3.12/lib/python3.12/zipfile/__init__.py:1349\u001b[0m, in \u001b[0;36mZipFile.__init__\u001b[0;34m(self, file, mode, compression, allowZip64, compresslevel, strict_timestamps, metadata_encoding)\u001b[0m\n\u001b[1;32m   1347\u001b[0m \u001b[38;5;28;01mtry\u001b[39;00m:\n\u001b[1;32m   1348\u001b[0m     \u001b[38;5;28;01mif\u001b[39;00m mode \u001b[38;5;241m==\u001b[39m \u001b[38;5;124m'\u001b[39m\u001b[38;5;124mr\u001b[39m\u001b[38;5;124m'\u001b[39m:\n\u001b[0;32m-> 1349\u001b[0m         \u001b[38;5;28;43mself\u001b[39;49m\u001b[38;5;241;43m.\u001b[39;49m\u001b[43m_RealGetContents\u001b[49m\u001b[43m(\u001b[49m\u001b[43m)\u001b[49m\n\u001b[1;32m   1350\u001b[0m     \u001b[38;5;28;01melif\u001b[39;00m mode \u001b[38;5;129;01min\u001b[39;00m (\u001b[38;5;124m'\u001b[39m\u001b[38;5;124mw\u001b[39m\u001b[38;5;124m'\u001b[39m, \u001b[38;5;124m'\u001b[39m\u001b[38;5;124mx\u001b[39m\u001b[38;5;124m'\u001b[39m):\n\u001b[1;32m   1351\u001b[0m         \u001b[38;5;66;03m# set the modified flag so central directory gets written\u001b[39;00m\n\u001b[1;32m   1352\u001b[0m         \u001b[38;5;66;03m# even if no files are added to the archive\u001b[39;00m\n\u001b[1;32m   1353\u001b[0m         \u001b[38;5;28mself\u001b[39m\u001b[38;5;241m.\u001b[39m_didModify \u001b[38;5;241m=\u001b[39m \u001b[38;5;28;01mTrue\u001b[39;00m\n",
      "File \u001b[0;32m/opt/homebrew/Cellar/python@3.12/3.12.5/Frameworks/Python.framework/Versions/3.12/lib/python3.12/zipfile/__init__.py:1416\u001b[0m, in \u001b[0;36mZipFile._RealGetContents\u001b[0;34m(self)\u001b[0m\n\u001b[1;32m   1414\u001b[0m     \u001b[38;5;28;01mraise\u001b[39;00m BadZipFile(\u001b[38;5;124m\"\u001b[39m\u001b[38;5;124mFile is not a zip file\u001b[39m\u001b[38;5;124m\"\u001b[39m)\n\u001b[1;32m   1415\u001b[0m \u001b[38;5;28;01mif\u001b[39;00m \u001b[38;5;129;01mnot\u001b[39;00m endrec:\n\u001b[0;32m-> 1416\u001b[0m     \u001b[38;5;28;01mraise\u001b[39;00m BadZipFile(\u001b[38;5;124m\"\u001b[39m\u001b[38;5;124mFile is not a zip file\u001b[39m\u001b[38;5;124m\"\u001b[39m)\n\u001b[1;32m   1417\u001b[0m \u001b[38;5;28;01mif\u001b[39;00m \u001b[38;5;28mself\u001b[39m\u001b[38;5;241m.\u001b[39mdebug \u001b[38;5;241m>\u001b[39m \u001b[38;5;241m1\u001b[39m:\n\u001b[1;32m   1418\u001b[0m     \u001b[38;5;28mprint\u001b[39m(endrec)\n",
      "\u001b[0;31mBadZipFile\u001b[0m: File is not a zip file"
     ]
    }
   ],
   "source": [
    "# Descarga de los datos de los ENOE\n",
    "for item in enoe:\n",
    "    descargar_archivo_zip(item[\"url\"],item['file_name'], \"ENCUESTA NACIONAL DE OCUPACION Y EMPLEO\")"
   ]
  },
  {
   "cell_type": "code",
   "execution_count": null,
   "metadata": {},
   "outputs": [],
   "source": []
  },
  {
   "cell_type": "code",
   "execution_count": 3,
   "metadata": {},
   "outputs": [
    {
     "name": "stdout",
     "output_type": "stream",
     "text": [
      "Descarga completa:https://www.inegi.org.mx/contenidos/programas/ccpv/1950/tabulados/cgp50_nal_educacion.xlsx\n",
      "Archivo guardado:cgp50_nal_educacion.xlsx\n",
      "Descarga completa:https://www.inegi.org.mx/contenidos/programas/ccpv/1960/tabulados/CGP60_nal_Educacion.xlsx\n",
      "Archivo guardado:CGP60_nal_Educacion.xlsx\n",
      "Descarga completa:https://www.inegi.org.mx/contenidos/programas/ccpv/1970/tabulados/cgp70_nal_educacion.xlsx\n",
      "Archivo guardado:cgp70_nal_educacion.xlsx\n",
      "Descarga completa:https://www.inegi.org.mx/contenidos/programas/ccpv/1980/tabulados/cpyv80_nal_educacion.xlsx\n",
      "Archivo guardado:cpyv80_nal_educacion.xlsx\n",
      "Descarga completa:https://www.inegi.org.mx/contenidos/programas/ccpv/1990/tabulados/CPyV90_Nal_Caracteristicas_educativas.xlsx\n",
      "Archivo guardado:CPyV90_Nal_Caracteristicas_educativas.xlsx\n",
      "Descarga completa:https://www.inegi.org.mx/contenidos/programas/ccpv/1995/tabulados/Cont95Enum_NAL_Caracteristicas_educativas.xlsx\n",
      "Archivo guardado:Cont95Enum_NAL_Caracteristicas_educativas.xlsx\n",
      "El contenido de https://www.inegi.org.mx/contenidos/programas/ccpv/2000/datosabiertos/cgpv2000_iter_00_csv.zip se extrajo a ./Data/raw/DATOS EDUCACION/CENSOS DE POBLACION Y VIVIENDA/\n",
      "El contenido de https://www.inegi.org.mx/contenidos/programas/ccpv/2005/datosabiertos/cpv2005_iter_00_csv.zip se extrajo a ./Data/raw/DATOS EDUCACION/CENSOS DE POBLACION Y VIVIENDA/\n",
      "El contenido de https://www.inegi.org.mx/contenidos/programas/ccpv/2010/datosabiertos/iter_nal_2010_csv.zip se extrajo a ./Data/raw/DATOS EDUCACION/CENSOS DE POBLACION Y VIVIENDA/\n",
      "El contenido de https://www.inegi.org.mx/contenidos/programas/ccpv/2020/datosabiertos/iter/iter_00_cpv2020_csv.zip se extrajo a ./Data/raw/DATOS EDUCACION/CENSOS DE POBLACION Y VIVIENDA/\n",
      "El contenido de https://www.inegi.org.mx/contenidos/programas/enape/2021/datosabiertos/conjunto_de_datos_enape_2021_csv.zip se extrajo a ./Data/raw/DATOS EDUCACION/ENCUESTA NACIONAL SOBRE ACCESO Y PERMANENCIA EN LA EDUCACION 2021/\n"
     ]
    }
   ],
   "source": [
    "%run descarga_educacion_cirett.py"
   ]
  },
  {
   "cell_type": "code",
   "execution_count": null,
   "metadata": {},
   "outputs": [],
   "source": []
  }
 ],
 "metadata": {
  "kernelspec": {
   "display_name": ".venv",
   "language": "python",
   "name": "python3"
  },
  "language_info": {
   "codemirror_mode": {
    "name": "ipython",
    "version": 3
   },
   "file_extension": ".py",
   "mimetype": "text/x-python",
   "name": "python",
   "nbconvert_exporter": "python",
   "pygments_lexer": "ipython3",
   "version": "3.12.5"
  }
 },
 "nbformat": 4,
 "nbformat_minor": 2
}
